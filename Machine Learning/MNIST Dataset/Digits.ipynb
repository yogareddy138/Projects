{
 "cells": [
  {
   "cell_type": "code",
   "execution_count": 24,
   "source": [
    "import torch\r\n",
    "from matplotlib.pyplot import figure\r\n",
    "import numpy as np\r\n",
    "from torch import  nn"
   ],
   "outputs": [],
   "metadata": {}
  },
  {
   "cell_type": "code",
   "execution_count": 25,
   "source": [
    "def activation(x):\r\n",
    "    return 1/(1+torch.exp(-x))"
   ],
   "outputs": [],
   "metadata": {}
  },
  {
   "cell_type": "code",
   "execution_count": 26,
   "source": [
    "from torchvision import datasets, transforms\r\n",
    "\r\n",
    "transform = transforms.Compose([transforms.ToTensor(), transforms.Normalize(0.5, 0.5)])\r\n",
    "trainset = datasets.MNIST('MNIST_data/', download=True, train=True, transform = transform)\r\n",
    "trainloader = torch.utils.data.DataLoader(trainset, batch_size = 64, shuffle=True)"
   ],
   "outputs": [],
   "metadata": {}
  },
  {
   "cell_type": "code",
   "execution_count": 27,
   "source": [
    "dataiter = iter(trainloader)\r\n",
    "images, labels = dataiter.next()\r\n",
    "print(images.shape)\r\n",
    "print(labels.shape)"
   ],
   "outputs": [
    {
     "output_type": "stream",
     "name": "stdout",
     "text": [
      "torch.Size([64, 1, 28, 28])\n",
      "torch.Size([64])\n"
     ]
    }
   ],
   "metadata": {}
  },
  {
   "cell_type": "code",
   "execution_count": 28,
   "source": [
    "inputs = images.view(images.shape[0], -1)\r\n",
    "\r\n",
    "w1 = torch.randn(784, 256)\r\n",
    "b1 = torch.randn(256)\r\n",
    "\r\n",
    "w2 = torch.randn(256, 10)\r\n",
    "b2 = torch.randn(10)\r\n",
    "\r\n",
    "h = activation(torch.mm(inputs, w1) + b1)\r\n",
    "\r\n",
    "out = torch.mm(h, w2) + b2"
   ],
   "outputs": [],
   "metadata": {}
  },
  {
   "cell_type": "code",
   "execution_count": 29,
   "source": [
    "def softmax(x):\r\n",
    "    return torch.exp(x)/torch.sum(torch.exp(x), dim = 1).view(-1, 1)\r\n",
    "\r\n",
    "probabilities = softmax(out)\r\n",
    "\r\n",
    "print(probabilities.shape)\r\n",
    "print(probabilities.sum(dim = 1))"
   ],
   "outputs": [
    {
     "output_type": "stream",
     "name": "stdout",
     "text": [
      "torch.Size([64, 10])\n",
      "tensor([1.0000, 1.0000, 1.0000, 1.0000, 1.0000, 1.0000, 1.0000, 1.0000, 1.0000,\n",
      "        1.0000, 1.0000, 1.0000, 1.0000, 1.0000, 1.0000, 1.0000, 1.0000, 1.0000,\n",
      "        1.0000, 1.0000, 1.0000, 1.0000, 1.0000, 1.0000, 1.0000, 1.0000, 1.0000,\n",
      "        1.0000, 1.0000, 1.0000, 1.0000, 1.0000, 1.0000, 1.0000, 1.0000, 1.0000,\n",
      "        1.0000, 1.0000, 1.0000, 1.0000, 1.0000, 1.0000, 1.0000, 1.0000, 1.0000,\n",
      "        1.0000, 1.0000, 1.0000, 1.0000, 1.0000, 1.0000, 1.0000, 1.0000, 1.0000,\n",
      "        1.0000, 1.0000, 1.0000, 1.0000, 1.0000, 1.0000, 1.0000, 1.0000, 1.0000,\n",
      "        1.0000])\n"
     ]
    }
   ],
   "metadata": {}
  },
  {
   "cell_type": "code",
   "execution_count": 30,
   "source": [
    "class Network(nn.Module):\r\n",
    "    def __init__(self):\r\n",
    "        super().__init__()\r\n",
    "\r\n",
    "        self.hidden = nn.Linear(784, 256)\r\n",
    "        self.output = nn.Linear(256, 10)\r\n",
    "\r\n",
    "        self.sigmoid = nn.Sigmoid()\r\n",
    "        self.softmax = nn.Softmax(dim = 1)\r\n",
    "\r\n",
    "    def forward(self, x):\r\n",
    "        x = self.hidden(x)\r\n",
    "        x = self.sigmoid(x)\r\n",
    "        x = self.output(x)\r\n",
    "        x = self.softmax(x)\r\n",
    "\r\n",
    "        return x"
   ],
   "outputs": [],
   "metadata": {}
  },
  {
   "cell_type": "code",
   "execution_count": 31,
   "source": [
    "model = Network()\r\n",
    "model"
   ],
   "outputs": [
    {
     "output_type": "execute_result",
     "data": {
      "text/plain": [
       "Network(\n",
       "  (hidden): Linear(in_features=784, out_features=256, bias=True)\n",
       "  (output): Linear(in_features=256, out_features=10, bias=True)\n",
       "  (sigmoid): Sigmoid()\n",
       "  (softmax): Softmax(dim=1)\n",
       ")"
      ]
     },
     "metadata": {},
     "execution_count": 31
    }
   ],
   "metadata": {}
  },
  {
   "cell_type": "code",
   "execution_count": 32,
   "source": [
    "import torch.nn.functional as F\r\n",
    "\r\n",
    "class Network(nn.Module):\r\n",
    "    def __init__(self):\r\n",
    "        super().__init__()\r\n",
    "\r\n",
    "        self.hidden = nn.Linear(784, 256)\r\n",
    "        self.output = nn.Linear(256, 10)\r\n",
    "\r\n",
    "    def forward(self, x):\r\n",
    "        x = F.sigmoid(self.hidden(x))\r\n",
    "        x = F.softmax(self.output(x), dim = 1)\r\n",
    "\r\n",
    "        return x"
   ],
   "outputs": [],
   "metadata": {}
  },
  {
   "cell_type": "code",
   "execution_count": 33,
   "source": [
    "model = nn.Sequential(nn.Linear(784, 128), nn.ReLU(), nn.Linear(128, 64), nn.ReLU(), nn.Linear(64, 10))\r\n",
    "criterion = nn.CrossEntropyLoss()\r\n",
    "images, labels = next(iter(trainloader))\r\n",
    "images = images.view(images.shape[0], -1)\r\n",
    "logits = model(images)\r\n",
    "loss = criterion(logits, labels)\r\n",
    "\r\n",
    "print(loss)"
   ],
   "outputs": [
    {
     "output_type": "stream",
     "name": "stdout",
     "text": [
      "tensor(2.2841, grad_fn=<NllLossBackward>)\n"
     ]
    }
   ],
   "metadata": {}
  },
  {
   "cell_type": "code",
   "execution_count": 34,
   "source": [
    "model = nn.Sequential(nn.Linear(784, 128), nn.ReLU(), \r\n",
    "                      nn.Linear(128, 64), nn.ReLU(), \r\n",
    "                      nn.Linear(64, 10), nn.LogSoftmax(dim = 1))\r\n",
    "criterion = nn.NLLLoss()\r\n",
    "images, labels = next(iter(trainloader))\r\n",
    "images = images.view(images.shape[0], -1)\r\n",
    "logps = model(images)\r\n",
    "loss = criterion(logps, labels)\r\n",
    "\r\n",
    "print(loss)"
   ],
   "outputs": [
    {
     "output_type": "stream",
     "name": "stdout",
     "text": [
      "tensor(2.2961, grad_fn=<NllLossBackward>)\n"
     ]
    }
   ],
   "metadata": {}
  },
  {
   "cell_type": "code",
   "execution_count": 35,
   "source": [
    "x = torch.randn(2, 2, requires_grad=True)\r\n",
    "print(x)"
   ],
   "outputs": [
    {
     "output_type": "stream",
     "name": "stdout",
     "text": [
      "tensor([[ 0.5973,  1.3909],\n",
      "        [-1.8782, -0.5111]], requires_grad=True)\n"
     ]
    }
   ],
   "metadata": {}
  },
  {
   "cell_type": "code",
   "execution_count": 36,
   "source": [
    "y = x**2\r\n",
    "print(y)"
   ],
   "outputs": [
    {
     "output_type": "stream",
     "name": "stdout",
     "text": [
      "tensor([[0.3567, 1.9346],\n",
      "        [3.5278, 0.2612]], grad_fn=<PowBackward0>)\n"
     ]
    }
   ],
   "metadata": {}
  },
  {
   "cell_type": "code",
   "execution_count": 37,
   "source": [
    "print(y.grad_fn)"
   ],
   "outputs": [
    {
     "output_type": "stream",
     "name": "stdout",
     "text": [
      "<PowBackward0 object at 0x000001927F03C430>\n"
     ]
    }
   ],
   "metadata": {}
  },
  {
   "cell_type": "code",
   "execution_count": 38,
   "source": [
    "z = y.mean()"
   ],
   "outputs": [],
   "metadata": {}
  },
  {
   "cell_type": "code",
   "execution_count": 39,
   "source": [
    "print(x.grad)"
   ],
   "outputs": [
    {
     "output_type": "stream",
     "name": "stdout",
     "text": [
      "None\n"
     ]
    }
   ],
   "metadata": {}
  },
  {
   "cell_type": "code",
   "execution_count": 40,
   "source": [
    "z.backward()\r\n",
    "print(x.grad)\r\n",
    "print(x/2)"
   ],
   "outputs": [
    {
     "output_type": "stream",
     "name": "stdout",
     "text": [
      "tensor([[ 0.2986,  0.6954],\n",
      "        [-0.9391, -0.2555]])\n",
      "tensor([[ 0.2986,  0.6954],\n",
      "        [-0.9391, -0.2555]], grad_fn=<DivBackward0>)\n"
     ]
    }
   ],
   "metadata": {}
  },
  {
   "cell_type": "code",
   "execution_count": 41,
   "source": [
    "model = nn.Sequential(nn.Linear(784, 128), nn.ReLU(), \r\n",
    "                      nn.Linear(128, 64), nn.ReLU(), \r\n",
    "                      nn.Linear(64, 10), nn.LogSoftmax(dim = 1))\r\n",
    "criterion = nn.NLLLoss()\r\n",
    "images, labels = next(iter(trainloader))\r\n",
    "images = images.view(images.shape[0], -1)\r\n",
    "logps = model(images)\r\n",
    "loss = criterion(logps, labels)\r\n",
    "\r\n",
    "print(loss)"
   ],
   "outputs": [
    {
     "output_type": "stream",
     "name": "stdout",
     "text": [
      "tensor(2.2988, grad_fn=<NllLossBackward>)\n"
     ]
    }
   ],
   "metadata": {}
  },
  {
   "cell_type": "code",
   "execution_count": 42,
   "source": [
    "print(\"Before Backward pass : \\n\", model[0].weight.grad)\r\n",
    "loss.backward()\r\n",
    "print(\"After Backward pass : \\n\",model[0].weight.grad)"
   ],
   "outputs": [
    {
     "output_type": "stream",
     "name": "stdout",
     "text": [
      "Before Backward pass : \n",
      " None\n",
      "After Backward pass : \n",
      " tensor([[ 0.0036,  0.0036,  0.0036,  ...,  0.0036,  0.0036,  0.0036],\n",
      "        [-0.0004, -0.0004, -0.0004,  ..., -0.0004, -0.0004, -0.0004],\n",
      "        [-0.0022, -0.0022, -0.0022,  ..., -0.0022, -0.0022, -0.0022],\n",
      "        ...,\n",
      "        [-0.0008, -0.0008, -0.0008,  ..., -0.0008, -0.0008, -0.0008],\n",
      "        [ 0.0000,  0.0000,  0.0000,  ...,  0.0000,  0.0000,  0.0000],\n",
      "        [-0.0002, -0.0002, -0.0002,  ..., -0.0002, -0.0002, -0.0002]])\n"
     ]
    }
   ],
   "metadata": {}
  },
  {
   "cell_type": "code",
   "execution_count": 43,
   "source": [
    "from torch import optim\r\n",
    "optimizer = optim.SGD(model.parameters(), lr=0.01)"
   ],
   "outputs": [],
   "metadata": {}
  },
  {
   "cell_type": "code",
   "execution_count": 44,
   "source": [
    "print('Inital weights - ', model[0].weight)\r\n",
    "\r\n",
    "images, labels = next(iter(trainloader))\r\n",
    "images.resize_(64, 784)\r\n",
    "\r\n",
    "optimizer.zero_grad()\r\n",
    "\r\n",
    "output = model.forward(images)\r\n",
    "loss = criterion(output, labels)\r\n",
    "loss.backward()\r\n",
    "print('Gradient -', model[0].weight.grad)"
   ],
   "outputs": [
    {
     "output_type": "stream",
     "name": "stdout",
     "text": [
      "Inital weights -  Parameter containing:\n",
      "tensor([[ 1.9387e-02,  1.0676e-02,  5.9656e-03,  ..., -1.5762e-02,\n",
      "          6.6692e-03,  2.2570e-02],\n",
      "        [ 3.3890e-02,  5.0750e-03,  1.0938e-03,  ...,  2.7988e-02,\n",
      "          2.7544e-02,  3.4650e-02],\n",
      "        [-2.5923e-02, -2.8438e-02, -2.9675e-02,  ..., -1.7569e-02,\n",
      "         -6.7470e-03, -3.5486e-02],\n",
      "        ...,\n",
      "        [-1.0701e-02,  2.3796e-02, -1.0535e-02,  ..., -2.5587e-02,\n",
      "         -7.8063e-03, -2.8431e-05],\n",
      "        [-1.4640e-02, -2.4052e-02,  1.9437e-02,  ..., -2.2568e-02,\n",
      "          3.8320e-03,  2.2114e-02],\n",
      "        [ 1.3573e-02,  1.7200e-03,  3.2379e-02,  ...,  1.6092e-02,\n",
      "          2.1467e-02, -1.0497e-03]], requires_grad=True)\n",
      "Gradient - tensor([[-1.9258e-04, -1.9258e-04, -1.9258e-04,  ..., -1.9258e-04,\n",
      "         -1.9258e-04, -1.9258e-04],\n",
      "        [ 4.2689e-05,  4.2689e-05,  4.2689e-05,  ...,  4.2689e-05,\n",
      "          4.2689e-05,  4.2689e-05],\n",
      "        [-1.2110e-03, -1.2110e-03, -1.2110e-03,  ..., -1.2110e-03,\n",
      "         -1.2110e-03, -1.2110e-03],\n",
      "        ...,\n",
      "        [-4.7586e-03, -4.7586e-03, -4.7586e-03,  ..., -4.7586e-03,\n",
      "         -4.7586e-03, -4.7586e-03],\n",
      "        [ 0.0000e+00,  0.0000e+00,  0.0000e+00,  ...,  0.0000e+00,\n",
      "          0.0000e+00,  0.0000e+00],\n",
      "        [ 8.1380e-04,  8.1380e-04,  8.1380e-04,  ...,  8.1380e-04,\n",
      "          8.1380e-04,  8.1380e-04]])\n"
     ]
    }
   ],
   "metadata": {}
  },
  {
   "cell_type": "code",
   "execution_count": 45,
   "source": [
    "optimizer.step()\r\n",
    "print('Updated weights -', model[0].weight)"
   ],
   "outputs": [
    {
     "output_type": "stream",
     "name": "stdout",
     "text": [
      "Updated weights - Parameter containing:\n",
      "tensor([[ 1.9389e-02,  1.0678e-02,  5.9675e-03,  ..., -1.5760e-02,\n",
      "          6.6711e-03,  2.2572e-02],\n",
      "        [ 3.3890e-02,  5.0745e-03,  1.0934e-03,  ...,  2.7988e-02,\n",
      "          2.7543e-02,  3.4650e-02],\n",
      "        [-2.5911e-02, -2.8426e-02, -2.9663e-02,  ..., -1.7557e-02,\n",
      "         -6.7348e-03, -3.5474e-02],\n",
      "        ...,\n",
      "        [-1.0653e-02,  2.3844e-02, -1.0488e-02,  ..., -2.5539e-02,\n",
      "         -7.7587e-03,  1.9155e-05],\n",
      "        [-1.4640e-02, -2.4052e-02,  1.9437e-02,  ..., -2.2568e-02,\n",
      "          3.8320e-03,  2.2114e-02],\n",
      "        [ 1.3565e-02,  1.7119e-03,  3.2371e-02,  ...,  1.6084e-02,\n",
      "          2.1459e-02, -1.0579e-03]], requires_grad=True)\n"
     ]
    }
   ],
   "metadata": {}
  },
  {
   "cell_type": "code",
   "execution_count": 46,
   "source": [
    "model = nn.Sequential(nn.Linear(784, 128), nn.ReLU(),\r\n",
    "                      nn.Linear(128, 64), nn.ReLU(), \r\n",
    "                      nn.Linear(64, 10), nn.LogSoftmax(dim=1))\r\n",
    "\r\n",
    "criterion = nn.NLLLoss()\r\n",
    "optimizer = optim.SGD(model.parameters(), lr = 0.003)\r\n",
    "\r\n",
    "epochs = 5\r\n",
    "\r\n",
    "for e in range(epochs):\r\n",
    "    running_loss = 0\r\n",
    "    for images, labels in trainloader:\r\n",
    "        images = images.view(images.shape[0], -1)\r\n",
    "\r\n",
    "        optimizer.zero_grad()\r\n",
    "\r\n",
    "        output = model.forward(images)\r\n",
    "        loss = criterion(output, labels)\r\n",
    "        loss.backward()\r\n",
    "        optimizer.step()\r\n",
    "\r\n",
    "        running_loss += loss.item()\r\n",
    "        \r\n",
    "    else:\r\n",
    "        print(f\"Training loss: {running_loss/len(trainloader)}\")    "
   ],
   "outputs": [
    {
     "output_type": "stream",
     "name": "stdout",
     "text": [
      "Training loss: 1.8825670020666712\n",
      "Training loss: 0.8393916977938812\n",
      "Training loss: 0.5305155003979516\n",
      "Training loss: 0.431023176370272\n",
      "Training loss: 0.3852083096975711\n"
     ]
    }
   ],
   "metadata": {}
  },
  {
   "cell_type": "code",
   "execution_count": 55,
   "source": [
    "%matplotlib inline\r\n",
    "import helper\r\n",
    "\r\n",
    "images, labels = next(iter(trainloader))\r\n",
    "img = images[0].view(1, 784)\r\n",
    "\r\n",
    "with torch.no_grad():\r\n",
    "    logits = model.forward(img)\r\n",
    "\r\n",
    "ps = F.softmax(logits, dim=1)\r\n",
    "helper.view_classify(img.view(1, 28, 28), ps)"
   ],
   "outputs": [
    {
     "output_type": "display_data",
     "data": {
      "image/png": "[encoded data removed]",
      "text/plain": [
       "<Figure size 432x648 with 2 Axes>"
      ]
     },
     "metadata": {
      "needs_background": "light"
     }
    }
   ],
   "metadata": {}
  }
 ],
 "metadata": {
  "orig_nbformat": 4,
  "language_info": {
   "name": "python",
   "version": "3.9.6",
   "mimetype": "text/x-python",
   "codemirror_mode": {
    "name": "ipython",
    "version": 3
   },
   "pygments_lexer": "ipython3",
   "nbconvert_exporter": "python",
   "file_extension": ".py"
  },
  "kernelspec": {
   "name": "python3",
   "display_name": "Python 3.9.6 64-bit"
  },
  "interpreter": {
   "hash": "3f6f9090607da7e5470f97ece8d94086f82b718ca6c452ac1c0276bbd1aa9e85"
  }
 },
 "nbformat": 4,
 "nbformat_minor": 2
}