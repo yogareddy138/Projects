{
 "cells": [
  {
   "cell_type": "code",
   "execution_count": 1,
   "source": [
    "import torch\r\n",
    "from torchvision import datasets, transforms\r\n",
    "import helper\r\n",
    "\r\n",
    "from torch import nn, optim\r\n",
    "import torch.nn.functional as F\r\n",
    "\r\n",
    "# Define a transform to normalize the data\r\n",
    "transform = transforms.Compose([transforms.ToTensor(),\r\n",
    "                                transforms.Normalize((0.5,), (0.5,))])\r\n",
    "# Download and load the training data\r\n",
    "trainset = datasets.FashionMNIST('~/.pytorch/F_MNIST_data/', download=True, train=True, transform=transform)\r\n",
    "trainloader = torch.utils.data.DataLoader(trainset, batch_size=64, shuffle=True)\r\n",
    "\r\n",
    "# Download and load the test data\r\n",
    "testset = datasets.FashionMNIST('~/.pytorch/F_MNIST_data/', download=True, train=False, transform=transform)\r\n",
    "testloader = torch.utils.data.DataLoader(testset, batch_size=64, shuffle=True)"
   ],
   "outputs": [
    {
     "output_type": "stream",
     "name": "stderr",
     "text": [
      "C:\\Users\\Yoga\\AppData\\Local\\Programs\\Python\\Python39\\lib\\site-packages\\torchvision\\datasets\\mnist.py:498: UserWarning: The given NumPy array is not writeable, and PyTorch does not support non-writeable tensors. This means you can write to the underlying (supposedly non-writeable) NumPy array using the tensor. You may want to copy the array to protect its data or make it writeable before converting it to a tensor. This type of warning will be suppressed for the rest of this program. (Triggered internally at  ..\\torch\\csrc\\utils\\tensor_numpy.cpp:180.)\n",
      "  return torch.from_numpy(parsed.astype(m[2], copy=False)).view(*s)\n"
     ]
    }
   ],
   "metadata": {}
  },
  {
   "cell_type": "code",
   "execution_count": 2,
   "source": [
    "image, label = next(iter(trainloader))\r\n",
    "helper.imshow(image[0,:]);"
   ],
   "outputs": [
    {
     "output_type": "display_data",
     "data": {
      "image/png": "[encoded data removed]",
      "text/plain": [
       "<Figure size 432x288 with 1 Axes>"
      ]
     },
     "metadata": {
      "needs_background": "light"
     }
    }
   ],
   "metadata": {}
  },
  {
   "cell_type": "code",
   "execution_count": 3,
   "source": [
    "class Classifier(nn.Module):\r\n",
    "    def __init__(self):\r\n",
    "        super().__init__()\r\n",
    "        self.fc1 = nn.Linear(784, 256)\r\n",
    "        self.fc2 = nn.Linear(256, 128)\r\n",
    "        self.fc3 = nn.Linear(128, 64)\r\n",
    "        self.fc4 = nn.Linear(64, 10)\r\n",
    "        \r\n",
    "    def forward(self, x):\r\n",
    "        # make sure input tensor is flattened\r\n",
    "        x = x.view(x.shape[0], -1)\r\n",
    "        \r\n",
    "        x = F.relu(self.fc1(x))\r\n",
    "        x = F.relu(self.fc2(x))\r\n",
    "        x = F.relu(self.fc3(x))\r\n",
    "        x = F.log_softmax(self.fc4(x), dim=1)\r\n",
    "        \r\n",
    "        return x"
   ],
   "outputs": [],
   "metadata": {}
  },
  {
   "cell_type": "code",
   "execution_count": 4,
   "source": [
    "model= Classifier()\r\n",
    "criterion = nn.NLLLoss()\r\n",
    "optimizer = optim.Adam(model.parameters(), lr=0.003)"
   ],
   "outputs": [],
   "metadata": {}
  },
  {
   "cell_type": "code",
   "execution_count": 5,
   "source": [
    "epochs = 5\r\n",
    "\r\n",
    "for e in range(epochs):\r\n",
    "    running_loss = 0\r\n",
    "    for images, labels in trainloader:\r\n",
    "        log_ps = model(images)\r\n",
    "        loss = criterion(log_ps, labels)\r\n",
    "        \r\n",
    "        optimizer.zero_grad()\r\n",
    "        loss.backward()\r\n",
    "        optimizer.step()\r\n",
    "        \r\n",
    "        running_loss += loss.item()\r\n",
    "    else:\r\n",
    "        print(f\"Training loss: {running_loss}\")"
   ],
   "outputs": [
    {
     "output_type": "stream",
     "name": "stdout",
     "text": [
      "Training loss: 480.2433726936579\n",
      "Training loss: 369.4928957670927\n",
      "Training loss: 332.7066109627485\n",
      "Training loss: 314.43672524392605\n",
      "Training loss: 296.05540558695793\n"
     ]
    }
   ],
   "metadata": {}
  },
  {
   "cell_type": "code",
   "execution_count": 6,
   "source": [
    "%matplotlib inline\r\n",
    "%config InlineBackend.figure_format = 'retina'\r\n",
    "\r\n",
    "import helper\r\n",
    "\r\n",
    "# Test out your network!\r\n",
    "\r\n",
    "dataiter= iter(testloader)\r\n",
    "images, labels = dataiter.next()\r\n",
    "img = images[1]\r\n",
    "\r\n",
    "# TODO: Calculate the class probabilities (softmax) for img\r\n",
    "ps = torch.exp(model(img))\r\n",
    "\r\n",
    "# Plot the image and probabilities\r\n",
    "helper.view_classify(img, ps, version='Fashion')"
   ],
   "outputs": [
    {
     "output_type": "display_data",
     "data": {
      "image/png": "[encoded data removed]",
      "text/plain": [
       "<Figure size 432x648 with 2 Axes>"
      ]
     },
     "metadata": {
      "image/png": {
       "width": 424,
       "height": 216
      },
      "needs_background": "light"
     }
    }
   ],
   "metadata": {}
  },
  {
   "cell_type": "code",
   "execution_count": 7,
   "source": [
    "model = Classifier()\r\n",
    "images, labels = next(iter(testloader))\r\n",
    "ps = torch.exp(model(images))\r\n",
    "print(ps.shape)\r\n",
    "\r\n",
    "top_p, top_class = ps.topk(1, dim=1)\r\n",
    "print((top_class[:10, :]))\r\n",
    "equals = top_class == labels.view(*top_class.shape)"
   ],
   "outputs": [
    {
     "output_type": "stream",
     "name": "stdout",
     "text": [
      "torch.Size([64, 10])\n",
      "tensor([[6],\n",
      "        [6],\n",
      "        [6],\n",
      "        [6],\n",
      "        [6],\n",
      "        [6],\n",
      "        [6],\n",
      "        [6],\n",
      "        [0],\n",
      "        [6]])\n"
     ]
    }
   ],
   "metadata": {}
  },
  {
   "cell_type": "code",
   "execution_count": 8,
   "source": [
    "accuracy = torch.mean(equals.type(torch.FloatTensor))\r\n",
    "print(\"Accuracy : \", accuracy.item()*100,\" %\")"
   ],
   "outputs": [
    {
     "output_type": "stream",
     "name": "stdout",
     "text": [
      "Accuracy :  12.5  %\n"
     ]
    }
   ],
   "metadata": {}
  },
  {
   "cell_type": "code",
   "execution_count": 9,
   "source": [
    "model = Classifier()\r\n",
    "criterion = nn.NLLLoss()\r\n",
    "optimizer = optim.Adam(model.parameters(), lr=0.003)\r\n",
    "\r\n",
    "epochs = 5\r\n",
    "steps = 0\r\n",
    "\r\n",
    "train_losses, test_losses = [], []\r\n",
    "for e in range(epochs):\r\n",
    "    running_loss = 0\r\n",
    "    for images, labels in trainloader:\r\n",
    "        optimizer.zero_grad()\r\n",
    "        log_ps = model(images)\r\n",
    "        loss = criterion(log_ps, labels)\r\n",
    "        loss.backward()\r\n",
    "        optimizer.step()\r\n",
    "        running_loss += loss.item()\r\n",
    "\r\n",
    "    else:\r\n",
    "        test_loss = 0\r\n",
    "        accuracy = 0\r\n",
    "        with torch.no_grad():\r\n",
    "            for images, labels in trainloader:\r\n",
    "                log_ps = model(images)\r\n",
    "                test_loss += criterion(log_ps, labels)\r\n",
    "                ps = torch.exp(log_ps)\r\n",
    "                top_p, top_class = ps.topk(1, dim=1)\r\n",
    "                equals = top_class == labels.view(*top_class.shape)\r\n",
    "                accuracy += torch.mean(equals.type(torch.FloatTensor))\r\n",
    "\r\n",
    "        train_losses.append(running_loss/len(trainloader))\r\n",
    "        test_losses.append(test_loss/len(testloader))\r\n",
    "\r\n",
    "        print(\"Epoch : {}/{}.. \".format(e+1, epochs),\r\n",
    "              \"Running Loss: {:.3f}.. \".format(running_loss),\r\n",
    "              \"Training Loss: {:.3f}.. \".format(running_loss/len(trainloader)),\r\n",
    "              \"Test Loss: {:.3f}.. \".format(test_loss/len(testloader)),\r\n",
    "              \"Test Accuracy: {:.3f}\".format(accuracy/len(testloader)))"
   ],
   "outputs": [
    {
     "output_type": "stream",
     "name": "stdout",
     "text": [
      "Epoch : 1/5..  Running Loss: 484.599..  Training Loss: 0.517..  Test Loss: 2.664..  Test Accuracy: 5.027\n",
      "Epoch : 2/5..  Running Loss: 367.250..  Training Loss: 0.392..  Test Loss: 2.203..  Test Accuracy: 5.165\n",
      "Epoch : 3/5..  Running Loss: 332.479..  Training Loss: 0.354..  Test Loss: 1.923..  Test Accuracy: 5.273\n",
      "Epoch : 4/5..  Running Loss: 310.406..  Training Loss: 0.331..  Test Loss: 1.905..  Test Accuracy: 5.277\n",
      "Epoch : 5/5..  Running Loss: 294.665..  Training Loss: 0.314..  Test Loss: 1.902..  Test Accuracy: 5.277\n"
     ]
    }
   ],
   "metadata": {}
  }
 ],
 "metadata": {
  "orig_nbformat": 4,
  "language_info": {
   "name": "python",
   "version": "3.9.6",
   "mimetype": "text/x-python",
   "codemirror_mode": {
    "name": "ipython",
    "version": 3
   },
   "pygments_lexer": "ipython3",
   "nbconvert_exporter": "python",
   "file_extension": ".py"
  },
  "kernelspec": {
   "name": "python3",
   "display_name": "Python 3.9.6 64-bit"
  },
  "interpreter": {
   "hash": "3f6f9090607da7e5470f97ece8d94086f82b718ca6c452ac1c0276bbd1aa9e85"
  }
 },
 "nbformat": 4,
 "nbformat_minor": 2
}