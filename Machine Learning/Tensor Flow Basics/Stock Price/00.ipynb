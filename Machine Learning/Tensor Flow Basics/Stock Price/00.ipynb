{
 "metadata": {
  "language_info": {
   "codemirror_mode": {
    "name": "ipython",
    "version": 3
   },
   "file_extension": ".py",
   "mimetype": "text/x-python",
   "name": "python",
   "nbconvert_exporter": "python",
   "pygments_lexer": "ipython3",
   "version": "3.9.6"
  },
  "orig_nbformat": 4,
  "kernelspec": {
   "name": "python3",
   "display_name": "Python 3.9.6 64-bit"
  },
  "interpreter": {
   "hash": "3f6f9090607da7e5470f97ece8d94086f82b718ca6c452ac1c0276bbd1aa9e85"
  }
 },
 "nbformat": 4,
 "nbformat_minor": 2,
 "cells": [
  {
   "cell_type": "code",
   "execution_count": 1,
   "source": [
    "import pandas_datareader as pdr\r\n",
    "import pandas as pd\r\n",
    "import numpy as np\r\n",
    "import math \r\n",
    "import tensorflow as tf \r\n",
    "import matplotlib.pyplot as plt\r\n",
    "\r\n",
    "from sklearn.metrics import mean_squared_error\r\n",
    "from sklearn.preprocessing import MinMaxScaler as MinMaxScaler\r\n",
    "\r\n",
    "from tensorflow.keras.models import Sequential\r\n",
    "from tensorflow.keras.layers import Dense\r\n",
    "from tensorflow.keras.layers import LSTM"
   ],
   "outputs": [],
   "metadata": {}
  },
  {
   "cell_type": "code",
   "execution_count": 2,
   "source": [
    "df=pdr.get_data_tiingo('AAPL', api_key='2f2a5f843b5119ecb7d4f9cf198a819a56af9b43')"
   ],
   "outputs": [],
   "metadata": {}
  },
  {
   "cell_type": "code",
   "execution_count": 3,
   "source": [
    "df.to_csv('AAPL.csv')\r\n",
    "df=pd.read_csv('AAPL.csv')\r\n",
    "df1=df.reset_index()['close']\r\n",
    "df1[1228:]"
   ],
   "outputs": [
    {
     "output_type": "execute_result",
     "data": {
      "text/plain": [
       "1228    148.56\n",
       "1229    148.99\n",
       "1230    146.77\n",
       "1231    144.98\n",
       "1232    145.64\n",
       "1233    145.86\n",
       "1234    145.52\n",
       "1235    147.36\n",
       "1236    146.95\n",
       "1237    147.06\n",
       "1238    146.14\n",
       "1239    146.09\n",
       "1240    145.60\n",
       "1241    145.86\n",
       "1242    148.89\n",
       "1243    149.10\n",
       "1244    151.12\n",
       "1245    150.19\n",
       "1246    146.36\n",
       "1247    146.70\n",
       "1248    148.19\n",
       "1249    149.71\n",
       "1250    149.62\n",
       "1251    148.36\n",
       "1252    147.54\n",
       "1253    148.60\n",
       "1254    153.12\n",
       "1255    151.83\n",
       "1256    152.51\n",
       "1257    153.65\n",
       "1258    154.30\n",
       "Name: close, dtype: float64"
      ]
     },
     "metadata": {},
     "execution_count": 3
    }
   ],
   "metadata": {}
  },
  {
   "cell_type": "code",
   "execution_count": 4,
   "source": [
    "df.head()"
   ],
   "outputs": [
    {
     "output_type": "execute_result",
     "data": {
      "text/html": [
       "<div>\n",
       "<style scoped>\n",
       "    .dataframe tbody tr th:only-of-type {\n",
       "        vertical-align: middle;\n",
       "    }\n",
       "\n",
       "    .dataframe tbody tr th {\n",
       "        vertical-align: top;\n",
       "    }\n",
       "\n",
       "    .dataframe thead th {\n",
       "        text-align: right;\n",
       "    }\n",
       "</style>\n",
       "<table border=\"1\" class=\"dataframe\">\n",
       "  <thead>\n",
       "    <tr style=\"text-align: right;\">\n",
       "      <th></th>\n",
       "      <th>symbol</th>\n",
       "      <th>date</th>\n",
       "      <th>close</th>\n",
       "      <th>high</th>\n",
       "      <th>low</th>\n",
       "      <th>open</th>\n",
       "      <th>volume</th>\n",
       "      <th>adjClose</th>\n",
       "      <th>adjHigh</th>\n",
       "      <th>adjLow</th>\n",
       "      <th>adjOpen</th>\n",
       "      <th>adjVolume</th>\n",
       "      <th>divCash</th>\n",
       "      <th>splitFactor</th>\n",
       "    </tr>\n",
       "  </thead>\n",
       "  <tbody>\n",
       "    <tr>\n",
       "      <th>0</th>\n",
       "      <td>AAPL</td>\n",
       "      <td>2016-09-06 00:00:00+00:00</td>\n",
       "      <td>107.70</td>\n",
       "      <td>108.30</td>\n",
       "      <td>107.51</td>\n",
       "      <td>107.90</td>\n",
       "      <td>26880391</td>\n",
       "      <td>25.246795</td>\n",
       "      <td>25.387446</td>\n",
       "      <td>25.202256</td>\n",
       "      <td>25.293679</td>\n",
       "      <td>107521564</td>\n",
       "      <td>0.0</td>\n",
       "      <td>1.0</td>\n",
       "    </tr>\n",
       "    <tr>\n",
       "      <th>1</th>\n",
       "      <td>AAPL</td>\n",
       "      <td>2016-09-07 00:00:00+00:00</td>\n",
       "      <td>108.36</td>\n",
       "      <td>108.76</td>\n",
       "      <td>107.07</td>\n",
       "      <td>107.83</td>\n",
       "      <td>42364328</td>\n",
       "      <td>25.401511</td>\n",
       "      <td>25.495278</td>\n",
       "      <td>25.099112</td>\n",
       "      <td>25.277269</td>\n",
       "      <td>169457312</td>\n",
       "      <td>0.0</td>\n",
       "      <td>1.0</td>\n",
       "    </tr>\n",
       "    <tr>\n",
       "      <th>2</th>\n",
       "      <td>AAPL</td>\n",
       "      <td>2016-09-08 00:00:00+00:00</td>\n",
       "      <td>105.52</td>\n",
       "      <td>107.27</td>\n",
       "      <td>105.24</td>\n",
       "      <td>107.25</td>\n",
       "      <td>53002026</td>\n",
       "      <td>24.735764</td>\n",
       "      <td>25.145995</td>\n",
       "      <td>24.670127</td>\n",
       "      <td>25.141307</td>\n",
       "      <td>212008104</td>\n",
       "      <td>0.0</td>\n",
       "      <td>1.0</td>\n",
       "    </tr>\n",
       "    <tr>\n",
       "      <th>3</th>\n",
       "      <td>AAPL</td>\n",
       "      <td>2016-09-09 00:00:00+00:00</td>\n",
       "      <td>103.13</td>\n",
       "      <td>105.72</td>\n",
       "      <td>103.13</td>\n",
       "      <td>104.64</td>\n",
       "      <td>46556984</td>\n",
       "      <td>24.175506</td>\n",
       "      <td>24.782648</td>\n",
       "      <td>24.175506</td>\n",
       "      <td>24.529477</td>\n",
       "      <td>186227936</td>\n",
       "      <td>0.0</td>\n",
       "      <td>1.0</td>\n",
       "    </tr>\n",
       "    <tr>\n",
       "      <th>4</th>\n",
       "      <td>AAPL</td>\n",
       "      <td>2016-09-12 00:00:00+00:00</td>\n",
       "      <td>105.44</td>\n",
       "      <td>105.72</td>\n",
       "      <td>102.53</td>\n",
       "      <td>102.65</td>\n",
       "      <td>45292770</td>\n",
       "      <td>24.717011</td>\n",
       "      <td>24.782648</td>\n",
       "      <td>24.034855</td>\n",
       "      <td>24.062985</td>\n",
       "      <td>181171080</td>\n",
       "      <td>0.0</td>\n",
       "      <td>1.0</td>\n",
       "    </tr>\n",
       "  </tbody>\n",
       "</table>\n",
       "</div>"
      ],
      "text/plain": [
       "  symbol                       date   close    high     low    open    volume  \\\n",
       "0   AAPL  2016-09-06 00:00:00+00:00  107.70  108.30  107.51  107.90  26880391   \n",
       "1   AAPL  2016-09-07 00:00:00+00:00  108.36  108.76  107.07  107.83  42364328   \n",
       "2   AAPL  2016-09-08 00:00:00+00:00  105.52  107.27  105.24  107.25  53002026   \n",
       "3   AAPL  2016-09-09 00:00:00+00:00  103.13  105.72  103.13  104.64  46556984   \n",
       "4   AAPL  2016-09-12 00:00:00+00:00  105.44  105.72  102.53  102.65  45292770   \n",
       "\n",
       "    adjClose    adjHigh     adjLow    adjOpen  adjVolume  divCash  splitFactor  \n",
       "0  25.246795  25.387446  25.202256  25.293679  107521564      0.0          1.0  \n",
       "1  25.401511  25.495278  25.099112  25.277269  169457312      0.0          1.0  \n",
       "2  24.735764  25.145995  24.670127  25.141307  212008104      0.0          1.0  \n",
       "3  24.175506  24.782648  24.175506  24.529477  186227936      0.0          1.0  \n",
       "4  24.717011  24.782648  24.034855  24.062985  181171080      0.0          1.0  "
      ]
     },
     "metadata": {},
     "execution_count": 4
    }
   ],
   "metadata": {}
  },
  {
   "cell_type": "code",
   "execution_count": 5,
   "source": [
    "scalar=MinMaxScaler(feature_range=(0,1))\r\n",
    "df1=scalar.fit_transform(np.array(df1).reshape(-1,1))"
   ],
   "outputs": [],
   "metadata": {}
  },
  {
   "cell_type": "code",
   "execution_count": 6,
   "source": [
    "df1.shape"
   ],
   "outputs": [
    {
     "output_type": "execute_result",
     "data": {
      "text/plain": [
       "(1259, 1)"
      ]
     },
     "metadata": {},
     "execution_count": 6
    }
   ],
   "metadata": {}
  },
  {
   "cell_type": "code",
   "execution_count": 7,
   "source": [
    "training_size=int(len(df1)*0.65)\r\n",
    "test_size=len(df1)-training_size\r\n",
    "train_data, test_data=df1[0:training_size,:], df1[training_size:len(df1),:1]"
   ],
   "outputs": [],
   "metadata": {}
  },
  {
   "cell_type": "code",
   "execution_count": 8,
   "source": [
    "def create_dataset(dataset, time_step=1):\r\n",
    "    dataX, dataY = [], []\r\n",
    "    for i in range(len(dataset)-time_step-1):\r\n",
    "        a = dataset[i:(i+time_step),0]\r\n",
    "        dataX.append(a)\r\n",
    "        dataY.append(dataset[i+time_step,0])\r\n",
    "    return np.array(dataX), np.array(dataY)"
   ],
   "outputs": [],
   "metadata": {}
  },
  {
   "cell_type": "code",
   "execution_count": 9,
   "source": [
    "time_step=100\r\n",
    "X_train, y_train = create_dataset(train_data,time_step)\r\n",
    "X_test, y_test = create_dataset(test_data, time_step)"
   ],
   "outputs": [],
   "metadata": {}
  },
  {
   "cell_type": "code",
   "execution_count": 10,
   "source": [
    "print(X_train)"
   ],
   "outputs": [
    {
     "output_type": "stream",
     "name": "stdout",
     "text": [
      "[[0.01134108 0.01297896 0.00593111 ... 0.04653067 0.04667957 0.04670439]\n",
      " [0.01297896 0.00593111 0.         ... 0.04667957 0.04670439 0.04591026]\n",
      " [0.00593111 0.         0.00573258 ... 0.04670439 0.04591026 0.04521541]\n",
      " ...\n",
      " [0.24841175 0.24473893 0.24858547 ... 0.40510224 0.39994044 0.40875025]\n",
      " [0.24473893 0.24858547 0.25332539 ... 0.39994044 0.40875025 0.40728608]\n",
      " [0.24858547 0.25332539 0.25156343 ... 0.40875025 0.40728608 0.39961783]]\n"
     ]
    }
   ],
   "metadata": {}
  },
  {
   "cell_type": "code",
   "execution_count": 11,
   "source": [
    "print(X_test.shape), print(y_test.shape)"
   ],
   "outputs": [
    {
     "output_type": "stream",
     "name": "stdout",
     "text": [
      "(340, 100)\n",
      "(340,)\n"
     ]
    },
    {
     "output_type": "execute_result",
     "data": {
      "text/plain": [
       "(None, None)"
      ]
     },
     "metadata": {},
     "execution_count": 11
    }
   ],
   "metadata": {}
  },
  {
   "cell_type": "code",
   "execution_count": 12,
   "source": [
    "X_train.shape"
   ],
   "outputs": [
    {
     "output_type": "execute_result",
     "data": {
      "text/plain": [
       "(717, 100)"
      ]
     },
     "metadata": {},
     "execution_count": 12
    }
   ],
   "metadata": {}
  },
  {
   "cell_type": "code",
   "execution_count": 13,
   "source": [
    "X_train=tf.expand_dims(X_train,axis=2)\r\n",
    "X_test=tf.expand_dims(X_test,axis=2)\r\n",
    "\r\n",
    "# X_train = X_train.reshape(X_train.shape[0], X_train.shape[1], 1)\r\n",
    "# X_test = X_test.reshape(X_test.shape[0],X_test.shape[1], 1)"
   ],
   "outputs": [],
   "metadata": {}
  },
  {
   "cell_type": "code",
   "execution_count": 14,
   "source": [
    "model=Sequential()\r\n",
    "model.add(LSTM(50, return_sequences=True, input_shape=(100, 1)))\r\n",
    "model.add(LSTM(50, return_sequences=True))\r\n",
    "model.add(LSTM(50))\r\n",
    "model.add(Dense(1))\r\n",
    "model.compile(loss='mse',optimizer='adam')\r\n"
   ],
   "outputs": [],
   "metadata": {}
  },
  {
   "cell_type": "code",
   "execution_count": 15,
   "source": [
    "model.summary()"
   ],
   "outputs": [
    {
     "output_type": "stream",
     "name": "stdout",
     "text": [
      "Model: \"sequential\"\n",
      "_________________________________________________________________\n",
      "Layer (type)                 Output Shape              Param #   \n",
      "=================================================================\n",
      "lstm (LSTM)                  (None, 100, 50)           10400     \n",
      "_________________________________________________________________\n",
      "lstm_1 (LSTM)                (None, 100, 50)           20200     \n",
      "_________________________________________________________________\n",
      "lstm_2 (LSTM)                (None, 50)                20200     \n",
      "_________________________________________________________________\n",
      "dense (Dense)                (None, 1)                 51        \n",
      "=================================================================\n",
      "Total params: 50,851\n",
      "Trainable params: 50,851\n",
      "Non-trainable params: 0\n",
      "_________________________________________________________________\n"
     ]
    }
   ],
   "metadata": {}
  },
  {
   "cell_type": "code",
   "execution_count": 16,
   "source": [
    "model.fit(X_train, y_train, validation_data=(X_test, y_test), epochs=100, batch_size=64, verbose=1)"
   ],
   "outputs": [
    {
     "output_type": "stream",
     "name": "stdout",
     "text": [
      "Epoch 1/100\n",
      "12/12 [==============================] - 9s 126ms/step - loss: 0.0090 - val_loss: 0.0396\n",
      "Epoch 2/100\n",
      "12/12 [==============================] - 0s 25ms/step - loss: 0.0025 - val_loss: 0.0265\n",
      "Epoch 3/100\n",
      "12/12 [==============================] - 0s 25ms/step - loss: 0.0013 - val_loss: 0.0223\n",
      "Epoch 4/100\n",
      "12/12 [==============================] - 0s 27ms/step - loss: 8.0103e-04 - val_loss: 0.0209\n",
      "Epoch 5/100\n",
      "12/12 [==============================] - 0s 27ms/step - loss: 5.2447e-04 - val_loss: 0.0229\n",
      "Epoch 6/100\n",
      "12/12 [==============================] - 0s 24ms/step - loss: 5.2435e-04 - val_loss: 0.0206\n",
      "Epoch 7/100\n",
      "12/12 [==============================] - 0s 27ms/step - loss: 4.7765e-04 - val_loss: 0.0201\n",
      "Epoch 8/100\n",
      "12/12 [==============================] - 0s 26ms/step - loss: 4.4841e-04 - val_loss: 0.0201\n",
      "Epoch 9/100\n",
      "12/12 [==============================] - 0s 27ms/step - loss: 4.1672e-04 - val_loss: 0.0200\n",
      "Epoch 10/100\n",
      "12/12 [==============================] - 0s 26ms/step - loss: 4.0999e-04 - val_loss: 0.0190\n",
      "Epoch 11/100\n",
      "12/12 [==============================] - 0s 26ms/step - loss: 3.7067e-04 - val_loss: 0.0193\n",
      "Epoch 12/100\n",
      "12/12 [==============================] - 0s 27ms/step - loss: 3.6527e-04 - val_loss: 0.0179\n",
      "Epoch 13/100\n",
      "12/12 [==============================] - 0s 23ms/step - loss: 3.4407e-04 - val_loss: 0.0183\n",
      "Epoch 14/100\n",
      "12/12 [==============================] - 0s 25ms/step - loss: 3.0881e-04 - val_loss: 0.0197\n",
      "Epoch 15/100\n",
      "12/12 [==============================] - 0s 24ms/step - loss: 3.0928e-04 - val_loss: 0.0160\n",
      "Epoch 16/100\n",
      "12/12 [==============================] - 0s 24ms/step - loss: 4.6524e-04 - val_loss: 0.0190\n",
      "Epoch 17/100\n",
      "12/12 [==============================] - 0s 26ms/step - loss: 3.9268e-04 - val_loss: 0.0154\n",
      "Epoch 18/100\n",
      "12/12 [==============================] - 0s 24ms/step - loss: 3.5885e-04 - val_loss: 0.0166\n",
      "Epoch 19/100\n",
      "12/12 [==============================] - 0s 25ms/step - loss: 3.7747e-04 - val_loss: 0.0158\n",
      "Epoch 20/100\n",
      "12/12 [==============================] - 0s 24ms/step - loss: 3.0793e-04 - val_loss: 0.0149\n",
      "Epoch 21/100\n",
      "12/12 [==============================] - 0s 23ms/step - loss: 3.0383e-04 - val_loss: 0.0174\n",
      "Epoch 22/100\n",
      "12/12 [==============================] - 0s 23ms/step - loss: 2.8413e-04 - val_loss: 0.0151\n",
      "Epoch 23/100\n",
      "12/12 [==============================] - 0s 22ms/step - loss: 3.0771e-04 - val_loss: 0.0163\n",
      "Epoch 24/100\n",
      "12/12 [==============================] - 0s 26ms/step - loss: 2.4522e-04 - val_loss: 0.0162\n",
      "Epoch 25/100\n",
      "12/12 [==============================] - 0s 23ms/step - loss: 2.3252e-04 - val_loss: 0.0163\n",
      "Epoch 26/100\n",
      "12/12 [==============================] - 0s 25ms/step - loss: 2.4486e-04 - val_loss: 0.0152\n",
      "Epoch 27/100\n",
      "12/12 [==============================] - 0s 24ms/step - loss: 2.4282e-04 - val_loss: 0.0165\n",
      "Epoch 28/100\n",
      "12/12 [==============================] - 0s 24ms/step - loss: 2.3550e-04 - val_loss: 0.0149\n",
      "Epoch 29/100\n",
      "12/12 [==============================] - 0s 23ms/step - loss: 2.2930e-04 - val_loss: 0.0154\n",
      "Epoch 30/100\n",
      "12/12 [==============================] - 0s 24ms/step - loss: 2.4330e-04 - val_loss: 0.0154\n",
      "Epoch 31/100\n",
      "12/12 [==============================] - 0s 24ms/step - loss: 2.1940e-04 - val_loss: 0.0151\n",
      "Epoch 32/100\n",
      "12/12 [==============================] - 0s 27ms/step - loss: 2.2043e-04 - val_loss: 0.0148\n",
      "Epoch 33/100\n",
      "12/12 [==============================] - 0s 29ms/step - loss: 2.0946e-04 - val_loss: 0.0139\n",
      "Epoch 34/100\n",
      "12/12 [==============================] - 0s 25ms/step - loss: 2.1641e-04 - val_loss: 0.0155\n",
      "Epoch 35/100\n",
      "12/12 [==============================] - 0s 27ms/step - loss: 2.5642e-04 - val_loss: 0.0136\n",
      "Epoch 36/100\n",
      "12/12 [==============================] - 0s 25ms/step - loss: 2.4802e-04 - val_loss: 0.0141\n",
      "Epoch 37/100\n",
      "12/12 [==============================] - 0s 25ms/step - loss: 2.3282e-04 - val_loss: 0.0131\n",
      "Epoch 38/100\n",
      "12/12 [==============================] - 0s 32ms/step - loss: 2.5188e-04 - val_loss: 0.0138\n",
      "Epoch 39/100\n",
      "12/12 [==============================] - 0s 25ms/step - loss: 1.9775e-04 - val_loss: 0.0143\n",
      "Epoch 40/100\n",
      "12/12 [==============================] - 0s 26ms/step - loss: 1.9740e-04 - val_loss: 0.0139\n",
      "Epoch 41/100\n",
      "12/12 [==============================] - 0s 24ms/step - loss: 1.9228e-04 - val_loss: 0.0140\n",
      "Epoch 42/100\n",
      "12/12 [==============================] - 0s 25ms/step - loss: 1.9323e-04 - val_loss: 0.0144\n",
      "Epoch 43/100\n",
      "12/12 [==============================] - 0s 25ms/step - loss: 1.9386e-04 - val_loss: 0.0129\n",
      "Epoch 44/100\n",
      "12/12 [==============================] - 0s 31ms/step - loss: 2.2168e-04 - val_loss: 0.0145\n",
      "Epoch 45/100\n",
      "12/12 [==============================] - 0s 26ms/step - loss: 2.4677e-04 - val_loss: 0.0124\n",
      "Epoch 46/100\n",
      "12/12 [==============================] - 0s 27ms/step - loss: 2.4616e-04 - val_loss: 0.0143\n",
      "Epoch 47/100\n",
      "12/12 [==============================] - 0s 24ms/step - loss: 2.2408e-04 - val_loss: 0.0120\n",
      "Epoch 48/100\n",
      "12/12 [==============================] - 0s 27ms/step - loss: 2.1482e-04 - val_loss: 0.0138\n",
      "Epoch 49/100\n",
      "12/12 [==============================] - 0s 28ms/step - loss: 1.9557e-04 - val_loss: 0.0127\n",
      "Epoch 50/100\n",
      "12/12 [==============================] - 0s 28ms/step - loss: 1.8052e-04 - val_loss: 0.0122\n",
      "Epoch 51/100\n",
      "12/12 [==============================] - 0s 25ms/step - loss: 1.7964e-04 - val_loss: 0.0115\n",
      "Epoch 52/100\n",
      "12/12 [==============================] - 0s 25ms/step - loss: 1.7389e-04 - val_loss: 0.0122\n",
      "Epoch 53/100\n",
      "12/12 [==============================] - 0s 24ms/step - loss: 1.7081e-04 - val_loss: 0.0116\n",
      "Epoch 54/100\n",
      "12/12 [==============================] - 0s 28ms/step - loss: 1.7517e-04 - val_loss: 0.0112\n",
      "Epoch 55/100\n",
      "12/12 [==============================] - 0s 23ms/step - loss: 1.7948e-04 - val_loss: 0.0106\n",
      "Epoch 56/100\n",
      "12/12 [==============================] - 0s 26ms/step - loss: 1.6888e-04 - val_loss: 0.0105\n",
      "Epoch 57/100\n",
      "12/12 [==============================] - 0s 23ms/step - loss: 1.6567e-04 - val_loss: 0.0099\n",
      "Epoch 58/100\n",
      "12/12 [==============================] - 0s 28ms/step - loss: 1.6441e-04 - val_loss: 0.0102\n",
      "Epoch 59/100\n",
      "12/12 [==============================] - 0s 24ms/step - loss: 1.5933e-04 - val_loss: 0.0096\n",
      "Epoch 60/100\n",
      "12/12 [==============================] - 0s 25ms/step - loss: 1.6889e-04 - val_loss: 0.0091\n",
      "Epoch 61/100\n",
      "12/12 [==============================] - 0s 27ms/step - loss: 1.6203e-04 - val_loss: 0.0087\n",
      "Epoch 62/100\n",
      "12/12 [==============================] - 0s 24ms/step - loss: 1.6141e-04 - val_loss: 0.0091\n",
      "Epoch 63/100\n",
      "12/12 [==============================] - 0s 26ms/step - loss: 1.5417e-04 - val_loss: 0.0087\n",
      "Epoch 64/100\n",
      "12/12 [==============================] - 0s 26ms/step - loss: 1.5447e-04 - val_loss: 0.0086\n",
      "Epoch 65/100\n",
      "12/12 [==============================] - 0s 26ms/step - loss: 1.6499e-04 - val_loss: 0.0090\n",
      "Epoch 66/100\n",
      "12/12 [==============================] - 0s 26ms/step - loss: 1.5091e-04 - val_loss: 0.0083\n",
      "Epoch 67/100\n",
      "12/12 [==============================] - 0s 23ms/step - loss: 1.4847e-04 - val_loss: 0.0083\n",
      "Epoch 68/100\n",
      "12/12 [==============================] - 0s 24ms/step - loss: 1.4366e-04 - val_loss: 0.0081\n",
      "Epoch 69/100\n",
      "12/12 [==============================] - 0s 26ms/step - loss: 1.4601e-04 - val_loss: 0.0081\n",
      "Epoch 70/100\n",
      "12/12 [==============================] - 0s 27ms/step - loss: 1.4356e-04 - val_loss: 0.0078\n",
      "Epoch 71/100\n",
      "12/12 [==============================] - 0s 26ms/step - loss: 1.4945e-04 - val_loss: 0.0078\n",
      "Epoch 72/100\n",
      "12/12 [==============================] - 0s 25ms/step - loss: 1.4341e-04 - val_loss: 0.0080\n",
      "Epoch 73/100\n",
      "12/12 [==============================] - 0s 25ms/step - loss: 1.7640e-04 - val_loss: 0.0075\n",
      "Epoch 74/100\n",
      "12/12 [==============================] - 0s 27ms/step - loss: 1.5482e-04 - val_loss: 0.0078\n",
      "Epoch 75/100\n",
      "12/12 [==============================] - 0s 25ms/step - loss: 1.3544e-04 - val_loss: 0.0077\n",
      "Epoch 76/100\n",
      "12/12 [==============================] - 0s 24ms/step - loss: 1.4571e-04 - val_loss: 0.0073\n",
      "Epoch 77/100\n",
      "12/12 [==============================] - 0s 25ms/step - loss: 1.3148e-04 - val_loss: 0.0073\n",
      "Epoch 78/100\n",
      "12/12 [==============================] - 0s 26ms/step - loss: 1.5384e-04 - val_loss: 0.0070\n",
      "Epoch 79/100\n",
      "12/12 [==============================] - 0s 30ms/step - loss: 1.3330e-04 - val_loss: 0.0070\n",
      "Epoch 80/100\n",
      "12/12 [==============================] - 0s 29ms/step - loss: 1.3235e-04 - val_loss: 0.0074\n",
      "Epoch 81/100\n",
      "12/12 [==============================] - 0s 27ms/step - loss: 1.4056e-04 - val_loss: 0.0068\n",
      "Epoch 82/100\n",
      "12/12 [==============================] - 0s 28ms/step - loss: 1.3050e-04 - val_loss: 0.0068\n",
      "Epoch 83/100\n",
      "12/12 [==============================] - 0s 24ms/step - loss: 1.2738e-04 - val_loss: 0.0067\n",
      "Epoch 84/100\n",
      "12/12 [==============================] - 0s 25ms/step - loss: 1.2433e-04 - val_loss: 0.0067\n",
      "Epoch 85/100\n",
      "12/12 [==============================] - 0s 28ms/step - loss: 1.2635e-04 - val_loss: 0.0066\n",
      "Epoch 86/100\n",
      "12/12 [==============================] - 0s 24ms/step - loss: 1.4814e-04 - val_loss: 0.0063\n",
      "Epoch 87/100\n",
      "12/12 [==============================] - 0s 24ms/step - loss: 1.5306e-04 - val_loss: 0.0070\n",
      "Epoch 88/100\n",
      "12/12 [==============================] - 0s 25ms/step - loss: 1.2621e-04 - val_loss: 0.0066\n",
      "Epoch 89/100\n",
      "12/12 [==============================] - 0s 28ms/step - loss: 1.2475e-04 - val_loss: 0.0068\n",
      "Epoch 90/100\n",
      "12/12 [==============================] - 0s 27ms/step - loss: 1.2436e-04 - val_loss: 0.0065\n",
      "Epoch 91/100\n",
      "12/12 [==============================] - 0s 23ms/step - loss: 1.3428e-04 - val_loss: 0.0069\n",
      "Epoch 92/100\n",
      "12/12 [==============================] - 0s 24ms/step - loss: 1.4872e-04 - val_loss: 0.0060\n",
      "Epoch 93/100\n",
      "12/12 [==============================] - 0s 25ms/step - loss: 1.3812e-04 - val_loss: 0.0061\n",
      "Epoch 94/100\n",
      "12/12 [==============================] - 0s 27ms/step - loss: 1.2859e-04 - val_loss: 0.0062\n",
      "Epoch 95/100\n",
      "12/12 [==============================] - 0s 28ms/step - loss: 1.1745e-04 - val_loss: 0.0059\n",
      "Epoch 96/100\n",
      "12/12 [==============================] - 0s 27ms/step - loss: 1.1936e-04 - val_loss: 0.0057\n",
      "Epoch 97/100\n",
      "12/12 [==============================] - 0s 27ms/step - loss: 1.3215e-04 - val_loss: 0.0058\n",
      "Epoch 98/100\n",
      "12/12 [==============================] - 0s 26ms/step - loss: 1.2652e-04 - val_loss: 0.0054\n",
      "Epoch 99/100\n",
      "12/12 [==============================] - 0s 28ms/step - loss: 1.2377e-04 - val_loss: 0.0056\n",
      "Epoch 100/100\n",
      "12/12 [==============================] - 0s 27ms/step - loss: 1.3300e-04 - val_loss: 0.0059\n"
     ]
    },
    {
     "output_type": "execute_result",
     "data": {
      "text/plain": [
       "<tensorflow.python.keras.callbacks.History at 0x1df9f923040>"
      ]
     },
     "metadata": {},
     "execution_count": 16
    }
   ],
   "metadata": {}
  },
  {
   "cell_type": "code",
   "execution_count": 17,
   "source": [
    "train_predict = model.predict(X_train)\r\n",
    "test_predict = model.predict(X_test)"
   ],
   "outputs": [],
   "metadata": {}
  },
  {
   "cell_type": "code",
   "execution_count": 18,
   "source": [
    "train_predict = scalar.inverse_transform(train_predict)\r\n",
    "test_predict = scalar.inverse_transform(test_predict)"
   ],
   "outputs": [],
   "metadata": {}
  },
  {
   "cell_type": "code",
   "execution_count": 19,
   "source": [
    "math.sqrt(mean_squared_error(y_train, train_predict)),math.sqrt(mean_squared_error(y_test, test_predict))"
   ],
   "outputs": [
    {
     "output_type": "execute_result",
     "data": {
      "text/plain": [
       "(185.5557210295315, 224.39027154224186)"
      ]
     },
     "metadata": {},
     "execution_count": 19
    }
   ],
   "metadata": {}
  },
  {
   "cell_type": "code",
   "execution_count": 20,
   "source": [
    "look_back = 100\r\n",
    "trainPredictPlot = np.empty_like(df1)\r\n",
    "trainPredictPlot[:, :] = np.nan\r\n",
    "trainPredictPlot[look_back : len(train_predict) + look_back, :] = train_predict\r\n",
    "\r\n",
    "testPredictPlot = np.empty_like(df1)\r\n",
    "testPredictPlot[:, :] = np.nan\r\n",
    "testPredictPlot[len(train_predict) + (look_back * 2) + 1 : len(df1) - 1, :] = test_predict\r\n",
    "\r\n",
    "plt.style.use('ggplot')\r\n",
    "plt.figure(figsize=(20,5))\r\n",
    "plt.plot(scalar.inverse_transform(df1))\r\n",
    "plt.plot(trainPredictPlot)\r\n",
    "plt.plot(testPredictPlot)\r\n",
    "plt.show()\r\n"
   ],
   "outputs": [
    {
     "output_type": "display_data",
     "data": {
      "image/png": "[encoded data removed]",
      "text/plain": [
       "<Figure size 1440x360 with 1 Axes>"
      ]
     },
     "metadata": {}
    }
   ],
   "metadata": {}
  },
  {
   "cell_type": "code",
   "execution_count": null,
   "source": [],
   "outputs": [],
   "metadata": {}
  }
 ]
}