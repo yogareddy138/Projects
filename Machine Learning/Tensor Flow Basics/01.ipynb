{
 "metadata": {
  "language_info": {
   "codemirror_mode": {
    "name": "ipython",
    "version": 3
   },
   "file_extension": ".py",
   "mimetype": "text/x-python",
   "name": "python",
   "nbconvert_exporter": "python",
   "pygments_lexer": "ipython3",
   "version": "3.9.6"
  },
  "orig_nbformat": 2,
  "kernelspec": {
   "name": "python3",
   "display_name": "Python 3.9.6 64-bit"
  },
  "interpreter": {
   "hash": "3f6f9090607da7e5470f97ece8d94086f82b718ca6c452ac1c0276bbd1aa9e85"
  }
 },
 "nbformat": 4,
 "nbformat_minor": 2,
 "cells": [
  {
   "cell_type": "markdown",
   "source": [
    "<h1>Neural Network - Regression Analysis </h1>"
   ],
   "metadata": {}
  },
  {
   "cell_type": "code",
   "execution_count": 1,
   "source": [
    "import tensorflow as tf\r\n",
    "print(tf.__version__)"
   ],
   "outputs": [
    {
     "output_type": "stream",
     "name": "stdout",
     "text": [
      "2.5.0\n"
     ]
    }
   ],
   "metadata": {}
  },
  {
   "cell_type": "code",
   "execution_count": 2,
   "source": [
    "import numpy as np\r\n",
    "import matplotlib.pyplot as plt\r\n",
    "\r\n",
    "\r\n",
    "#create features \r\n",
    "x=np.array([-7.0,-4.0,-1.0,2.0,5.0,8.0,11.0,14.0])\r\n",
    "\r\n",
    "#create labels\r\n",
    "y=np.array([3.0,6.0,9.0,12.0,15.0,18.0,21.0,24.0])\r\n",
    "#visualize it\r\n",
    "plt.scatter(x,y)"
   ],
   "outputs": [
    {
     "output_type": "execute_result",
     "data": {
      "text/plain": [
       "<matplotlib.collections.PathCollection at 0x20b04a996a0>"
      ]
     },
     "metadata": {},
     "execution_count": 2
    },
    {
     "output_type": "display_data",
     "data": {
      "image/png": "[encoded data removed]",
      "text/plain": [
       "<Figure size 432x288 with 1 Axes>"
      ]
     },
     "metadata": {
      "needs_background": "light"
     }
    }
   ],
   "metadata": {}
  },
  {
   "cell_type": "code",
   "execution_count": 3,
   "source": [
    "y=x+10\r\n",
    "y"
   ],
   "outputs": [
    {
     "output_type": "execute_result",
     "data": {
      "text/plain": [
       "array([ 3.,  6.,  9., 12., 15., 18., 21., 24.])"
      ]
     },
     "metadata": {},
     "execution_count": 3
    }
   ],
   "metadata": {}
  },
  {
   "cell_type": "markdown",
   "source": [
    "<h3>Input and output Shapes</h3>"
   ],
   "metadata": {}
  },
  {
   "cell_type": "code",
   "execution_count": 4,
   "source": [
    "#createensor for our housing price predicti a demo ton problem\r\n",
    "\r\n",
    "house_info=tf.constant([\"bedroom\",\"bathroom\",\"garage\"])\r\n",
    "house_price=tf.constant([939700])\r\n",
    "house_info,house_price"
   ],
   "outputs": [
    {
     "output_type": "execute_result",
     "data": {
      "text/plain": [
       "(<tf.Tensor: shape=(3,), dtype=string, numpy=array([b'bedroom', b'bathroom', b'garage'], dtype=object)>,\n",
       " <tf.Tensor: shape=(1,), dtype=int32, numpy=array([939700])>)"
      ]
     },
     "metadata": {},
     "execution_count": 4
    }
   ],
   "metadata": {}
  },
  {
   "cell_type": "code",
   "execution_count": 5,
   "source": [
    "#above tensor 'x'\r\n",
    "input_shape=x.shape\r\n",
    "output_shape=y.shape\r\n",
    "input_shape,output_shape,x[0],x[0].shape,x[0].ndim"
   ],
   "outputs": [
    {
     "output_type": "execute_result",
     "data": {
      "text/plain": [
       "((8,), (8,), -7.0, (), 0)"
      ]
     },
     "metadata": {},
     "execution_count": 5
    }
   ],
   "metadata": {}
  },
  {
   "cell_type": "code",
   "execution_count": 6,
   "source": [
    "#turn our Numpy arrayas into tensors\r\n",
    "x1=tf.constant(x)\r\n",
    "y1=tf.constant(y)\r\n",
    "x1,y1"
   ],
   "outputs": [
    {
     "output_type": "execute_result",
     "data": {
      "text/plain": [
       "(<tf.Tensor: shape=(8,), dtype=float64, numpy=array([-7., -4., -1.,  2.,  5.,  8., 11., 14.])>,\n",
       " <tf.Tensor: shape=(8,), dtype=float64, numpy=array([ 3.,  6.,  9., 12., 15., 18., 21., 24.])>)"
      ]
     },
     "metadata": {},
     "execution_count": 6
    }
   ],
   "metadata": {}
  },
  {
   "cell_type": "code",
   "execution_count": 7,
   "source": [
    "input_shape1=x1.shape\r\n",
    "output_shape1=y1.shape\r\n",
    "input_shape1,output_shape1,x1[0],x1[0].shape,x1[0].ndim"
   ],
   "outputs": [
    {
     "output_type": "execute_result",
     "data": {
      "text/plain": [
       "(TensorShape([8]),\n",
       " TensorShape([8]),\n",
       " <tf.Tensor: shape=(), dtype=float64, numpy=-7.0>,\n",
       " TensorShape([]),\n",
       " 0)"
      ]
     },
     "metadata": {},
     "execution_count": 7
    }
   ],
   "metadata": {}
  },
  {
   "cell_type": "markdown",
   "source": [
    "<h3>Steps to model in tf</h3>\n",
    "1.create\n",
    "2.compile\n",
    "3.fitting"
   ],
   "metadata": {}
  },
  {
   "cell_type": "code",
   "execution_count": 8,
   "source": [
    "#set random seed\r\n",
    "tf.random.set_seed(42)\r\n",
    "\r\n",
    "#create - sequential API\r\n",
    "model=tf.keras.Sequential([tf.keras.layers.Dense(1)])\r\n",
    "\r\n",
    "#compile\r\n",
    "model.compile(loss=tf.keras.losses.mae, optimizer=tf.keras.optimizers.SGD(),metrics=[\"mae\"]) #mae - mean absolute error, sgd - stochasitc gradient descent\r\n",
    "\r\n",
    "#fitting\r\n",
    "model.fit(x,y,epochs=5)"
   ],
   "outputs": [
    {
     "output_type": "stream",
     "name": "stdout",
     "text": [
      "Epoch 1/5\n",
      "1/1 [==============================] - 2s 2s/step - loss: 11.5048 - mae: 11.5048\n",
      "Epoch 2/5\n",
      "1/1 [==============================] - 0s 3ms/step - loss: 11.3723 - mae: 11.3723\n",
      "Epoch 3/5\n",
      "1/1 [==============================] - 0s 3ms/step - loss: 11.2398 - mae: 11.2398\n",
      "Epoch 4/5\n",
      "1/1 [==============================] - 0s 3ms/step - loss: 11.1073 - mae: 11.1073\n",
      "Epoch 5/5\n",
      "1/1 [==============================] - 0s 3ms/step - loss: 10.9748 - mae: 10.9748\n"
     ]
    },
    {
     "output_type": "execute_result",
     "data": {
      "text/plain": [
       "<tensorflow.python.keras.callbacks.History at 0x20b2deb3580>"
      ]
     },
     "metadata": {},
     "execution_count": 8
    }
   ],
   "metadata": {}
  },
  {
   "cell_type": "code",
   "execution_count": 9,
   "source": [
    "#check out and y\r\n",
    "x,y"
   ],
   "outputs": [
    {
     "output_type": "execute_result",
     "data": {
      "text/plain": [
       "(array([-7., -4., -1.,  2.,  5.,  8., 11., 14.]),\n",
       " array([ 3.,  6.,  9., 12., 15., 18., 21., 24.]))"
      ]
     },
     "metadata": {},
     "execution_count": 9
    }
   ],
   "metadata": {}
  },
  {
   "cell_type": "code",
   "execution_count": 10,
   "source": [
    "#try and make a prediction using our model\r\n",
    "y_pred=model.predict([17])\r\n",
    "y_pred"
   ],
   "outputs": [
    {
     "output_type": "execute_result",
     "data": {
      "text/plain": [
       "array([[12.716021]], dtype=float32)"
      ]
     },
     "metadata": {},
     "execution_count": 10
    }
   ],
   "metadata": {}
  },
  {
   "cell_type": "code",
   "execution_count": 11,
   "source": [
    "y_pred+11"
   ],
   "outputs": [
    {
     "output_type": "execute_result",
     "data": {
      "text/plain": [
       "array([[23.71602]], dtype=float32)"
      ]
     },
     "metadata": {},
     "execution_count": 11
    }
   ],
   "metadata": {}
  },
  {
   "cell_type": "markdown",
   "source": [
    "<h3>Improving Mode</h3>"
   ],
   "metadata": {}
  },
  {
   "cell_type": "code",
   "execution_count": 12,
   "source": [
    "#rebuild the model ##1\r\n",
    "#create - sequential API\r\n",
    "model1=tf.keras.Sequential([tf.keras.layers.Dense(1)])\r\n",
    "\r\n",
    "#compile\r\n",
    "model1.compile(loss=tf.keras.losses.mae, optimizer=tf.keras.optimizers.SGD(),metrics=[\"mae\"]) #mae - mean absolute error, sgd - stochasitc gradient descent\r\n",
    "\r\n",
    "#fitting\r\n",
    "model1.fit(x,y,epochs=100)"
   ],
   "outputs": [
    {
     "output_type": "stream",
     "name": "stdout",
     "text": [
      "Epoch 1/100\n",
      "1/1 [==============================] - 0s 202ms/step - loss: 11.2219 - mae: 11.2219\n",
      "Epoch 2/100\n",
      "1/1 [==============================] - 0s 0s/step - loss: 11.0894 - mae: 11.0894\n",
      "Epoch 3/100\n",
      "1/1 [==============================] - 0s 0s/step - loss: 10.9569 - mae: 10.9569\n",
      "Epoch 4/100\n",
      "1/1 [==============================] - 0s 2ms/step - loss: 10.8244 - mae: 10.8244\n",
      "Epoch 5/100\n",
      "1/1 [==============================] - 0s 3ms/step - loss: 10.6919 - mae: 10.6919\n",
      "Epoch 6/100\n",
      "1/1 [==============================] - 0s 3ms/step - loss: 10.5594 - mae: 10.5594\n",
      "Epoch 7/100\n",
      "1/1 [==============================] - 0s 3ms/step - loss: 10.4269 - mae: 10.4269\n",
      "Epoch 8/100\n",
      "1/1 [==============================] - 0s 3ms/step - loss: 10.2944 - mae: 10.2944\n",
      "Epoch 9/100\n",
      "1/1 [==============================] - 0s 0s/step - loss: 10.1619 - mae: 10.1619\n",
      "Epoch 10/100\n",
      "1/1 [==============================] - 0s 0s/step - loss: 10.0294 - mae: 10.0294\n",
      "Epoch 11/100\n",
      "1/1 [==============================] - 0s 0s/step - loss: 9.8969 - mae: 9.8969\n",
      "Epoch 12/100\n",
      "1/1 [==============================] - 0s 16ms/step - loss: 9.7644 - mae: 9.7644\n",
      "Epoch 13/100\n",
      "1/1 [==============================] - 0s 0s/step - loss: 9.6319 - mae: 9.6319\n",
      "Epoch 14/100\n",
      "1/1 [==============================] - 0s 0s/step - loss: 9.4994 - mae: 9.4994\n",
      "Epoch 15/100\n",
      "1/1 [==============================] - 0s 0s/step - loss: 9.3669 - mae: 9.3669\n",
      "Epoch 16/100\n",
      "1/1 [==============================] - 0s 16ms/step - loss: 9.2344 - mae: 9.2344\n",
      "Epoch 17/100\n",
      "1/1 [==============================] - 0s 0s/step - loss: 9.1019 - mae: 9.1019\n",
      "Epoch 18/100\n",
      "1/1 [==============================] - 0s 0s/step - loss: 8.9694 - mae: 8.9694\n",
      "Epoch 19/100\n",
      "1/1 [==============================] - 0s 0s/step - loss: 8.8369 - mae: 8.8369\n",
      "Epoch 20/100\n",
      "1/1 [==============================] - 0s 16ms/step - loss: 8.7044 - mae: 8.7044\n",
      "Epoch 21/100\n",
      "1/1 [==============================] - 0s 0s/step - loss: 8.5719 - mae: 8.5719\n",
      "Epoch 22/100\n",
      "1/1 [==============================] - 0s 0s/step - loss: 8.4394 - mae: 8.4394\n",
      "Epoch 23/100\n",
      "1/1 [==============================] - 0s 0s/step - loss: 8.3069 - mae: 8.3069\n",
      "Epoch 24/100\n",
      "1/1 [==============================] - 0s 16ms/step - loss: 8.1744 - mae: 8.1744\n",
      "Epoch 25/100\n",
      "1/1 [==============================] - 0s 0s/step - loss: 8.0419 - mae: 8.0419\n",
      "Epoch 26/100\n",
      "1/1 [==============================] - 0s 0s/step - loss: 7.9094 - mae: 7.9094\n",
      "Epoch 27/100\n",
      "1/1 [==============================] - 0s 0s/step - loss: 7.7769 - mae: 7.7769\n",
      "Epoch 28/100\n",
      "1/1 [==============================] - 0s 16ms/step - loss: 7.6444 - mae: 7.6444\n",
      "Epoch 29/100\n",
      "1/1 [==============================] - 0s 0s/step - loss: 7.5119 - mae: 7.5119\n",
      "Epoch 30/100\n",
      "1/1 [==============================] - 0s 0s/step - loss: 7.3794 - mae: 7.3794\n",
      "Epoch 31/100\n",
      "1/1 [==============================] - 0s 0s/step - loss: 7.2750 - mae: 7.2750\n",
      "Epoch 32/100\n",
      "1/1 [==============================] - 0s 16ms/step - loss: 7.2694 - mae: 7.2694\n",
      "Epoch 33/100\n",
      "1/1 [==============================] - 0s 0s/step - loss: 7.2638 - mae: 7.2638\n",
      "Epoch 34/100\n",
      "1/1 [==============================] - 0s 0s/step - loss: 7.2581 - mae: 7.2581\n",
      "Epoch 35/100\n",
      "1/1 [==============================] - 0s 0s/step - loss: 7.2525 - mae: 7.2525\n",
      "Epoch 36/100\n",
      "1/1 [==============================] - 0s 10ms/step - loss: 7.2469 - mae: 7.2469\n",
      "Epoch 37/100\n",
      "1/1 [==============================] - 0s 0s/step - loss: 7.2413 - mae: 7.2413\n",
      "Epoch 38/100\n",
      "1/1 [==============================] - 0s 0s/step - loss: 7.2356 - mae: 7.2356\n",
      "Epoch 39/100\n",
      "1/1 [==============================] - 0s 0s/step - loss: 7.2300 - mae: 7.2300\n",
      "Epoch 40/100\n",
      "1/1 [==============================] - 0s 0s/step - loss: 7.2244 - mae: 7.2244\n",
      "Epoch 41/100\n",
      "1/1 [==============================] - 0s 0s/step - loss: 7.2188 - mae: 7.2188\n",
      "Epoch 42/100\n",
      "1/1 [==============================] - 0s 0s/step - loss: 7.2131 - mae: 7.2131\n",
      "Epoch 43/100\n",
      "1/1 [==============================] - 0s 0s/step - loss: 7.2075 - mae: 7.2075\n",
      "Epoch 44/100\n",
      "1/1 [==============================] - 0s 0s/step - loss: 7.2019 - mae: 7.2019\n",
      "Epoch 45/100\n",
      "1/1 [==============================] - 0s 0s/step - loss: 7.1962 - mae: 7.1962\n",
      "Epoch 46/100\n",
      "1/1 [==============================] - 0s 0s/step - loss: 7.1906 - mae: 7.1906\n",
      "Epoch 47/100\n",
      "1/1 [==============================] - 0s 0s/step - loss: 7.1850 - mae: 7.1850\n",
      "Epoch 48/100\n",
      "1/1 [==============================] - 0s 0s/step - loss: 7.1794 - mae: 7.1794\n",
      "Epoch 49/100\n",
      "1/1 [==============================] - 0s 0s/step - loss: 7.1737 - mae: 7.1737\n",
      "Epoch 50/100\n",
      "1/1 [==============================] - 0s 0s/step - loss: 7.1681 - mae: 7.1681\n",
      "Epoch 51/100\n",
      "1/1 [==============================] - 0s 0s/step - loss: 7.1625 - mae: 7.1625\n",
      "Epoch 52/100\n",
      "1/1 [==============================] - 0s 0s/step - loss: 7.1569 - mae: 7.1569\n",
      "Epoch 53/100\n",
      "1/1 [==============================] - 0s 0s/step - loss: 7.1512 - mae: 7.1512\n",
      "Epoch 54/100\n",
      "1/1 [==============================] - 0s 0s/step - loss: 7.1456 - mae: 7.1456\n",
      "Epoch 55/100\n",
      "1/1 [==============================] - 0s 16ms/step - loss: 7.1400 - mae: 7.1400\n",
      "Epoch 56/100\n",
      "1/1 [==============================] - 0s 0s/step - loss: 7.1344 - mae: 7.1344\n",
      "Epoch 57/100\n",
      "1/1 [==============================] - 0s 0s/step - loss: 7.1287 - mae: 7.1287\n",
      "Epoch 58/100\n",
      "1/1 [==============================] - 0s 13ms/step - loss: 7.1231 - mae: 7.1231\n",
      "Epoch 59/100\n",
      "1/1 [==============================] - 0s 4ms/step - loss: 7.1175 - mae: 7.1175\n",
      "Epoch 60/100\n",
      "1/1 [==============================] - 0s 0s/step - loss: 7.1119 - mae: 7.1119\n",
      "Epoch 61/100\n",
      "1/1 [==============================] - 0s 0s/step - loss: 7.1062 - mae: 7.1062\n",
      "Epoch 62/100\n",
      "1/1 [==============================] - 0s 0s/step - loss: 7.1006 - mae: 7.1006\n",
      "Epoch 63/100\n",
      "1/1 [==============================] - 0s 16ms/step - loss: 7.0950 - mae: 7.0950\n",
      "Epoch 64/100\n",
      "1/1 [==============================] - 0s 0s/step - loss: 7.0894 - mae: 7.0894\n",
      "Epoch 65/100\n",
      "1/1 [==============================] - 0s 0s/step - loss: 7.0838 - mae: 7.0838\n",
      "Epoch 66/100\n",
      "1/1 [==============================] - 0s 0s/step - loss: 7.0781 - mae: 7.0781\n",
      "Epoch 67/100\n",
      "1/1 [==============================] - 0s 16ms/step - loss: 7.0725 - mae: 7.0725\n",
      "Epoch 68/100\n",
      "1/1 [==============================] - 0s 0s/step - loss: 7.0669 - mae: 7.0669\n",
      "Epoch 69/100\n",
      "1/1 [==============================] - 0s 0s/step - loss: 7.0613 - mae: 7.0613\n",
      "Epoch 70/100\n",
      "1/1 [==============================] - 0s 0s/step - loss: 7.0556 - mae: 7.0556\n",
      "Epoch 71/100\n",
      "1/1 [==============================] - 0s 16ms/step - loss: 7.0500 - mae: 7.0500\n",
      "Epoch 72/100\n",
      "1/1 [==============================] - 0s 0s/step - loss: 7.0444 - mae: 7.0444\n",
      "Epoch 73/100\n",
      "1/1 [==============================] - 0s 0s/step - loss: 7.0388 - mae: 7.0388\n",
      "Epoch 74/100\n",
      "1/1 [==============================] - 0s 0s/step - loss: 7.0331 - mae: 7.0331\n",
      "Epoch 75/100\n",
      "1/1 [==============================] - 0s 16ms/step - loss: 7.0275 - mae: 7.0275\n",
      "Epoch 76/100\n",
      "1/1 [==============================] - 0s 0s/step - loss: 7.0219 - mae: 7.0219\n",
      "Epoch 77/100\n",
      "1/1 [==============================] - 0s 0s/step - loss: 7.0163 - mae: 7.0163\n",
      "Epoch 78/100\n",
      "1/1 [==============================] - 0s 0s/step - loss: 7.0106 - mae: 7.0106\n",
      "Epoch 79/100\n",
      "1/1 [==============================] - 0s 16ms/step - loss: 7.0050 - mae: 7.0050\n",
      "Epoch 80/100\n",
      "1/1 [==============================] - 0s 0s/step - loss: 6.9994 - mae: 6.9994\n",
      "Epoch 81/100\n",
      "1/1 [==============================] - 0s 0s/step - loss: 6.9938 - mae: 6.9938\n",
      "Epoch 82/100\n",
      "1/1 [==============================] - 0s 0s/step - loss: 6.9881 - mae: 6.9881\n",
      "Epoch 83/100\n",
      "1/1 [==============================] - 0s 16ms/step - loss: 6.9825 - mae: 6.9825\n",
      "Epoch 84/100\n",
      "1/1 [==============================] - 0s 0s/step - loss: 6.9769 - mae: 6.9769\n",
      "Epoch 85/100\n",
      "1/1 [==============================] - 0s 0s/step - loss: 6.9713 - mae: 6.9713\n",
      "Epoch 86/100\n",
      "1/1 [==============================] - 0s 0s/step - loss: 6.9656 - mae: 6.9656\n",
      "Epoch 87/100\n",
      "1/1 [==============================] - 0s 0s/step - loss: 6.9600 - mae: 6.9600\n",
      "Epoch 88/100\n",
      "1/1 [==============================] - 0s 0s/step - loss: 6.9544 - mae: 6.9544\n",
      "Epoch 89/100\n",
      "1/1 [==============================] - 0s 0s/step - loss: 6.9488 - mae: 6.9488\n",
      "Epoch 90/100\n",
      "1/1 [==============================] - 0s 0s/step - loss: 6.9431 - mae: 6.9431\n",
      "Epoch 91/100\n",
      "1/1 [==============================] - 0s 16ms/step - loss: 6.9375 - mae: 6.9375\n",
      "Epoch 92/100\n",
      "1/1 [==============================] - 0s 0s/step - loss: 6.9319 - mae: 6.9319\n",
      "Epoch 93/100\n",
      "1/1 [==============================] - 0s 0s/step - loss: 6.9262 - mae: 6.9262\n",
      "Epoch 94/100\n",
      "1/1 [==============================] - 0s 0s/step - loss: 6.9206 - mae: 6.9206\n",
      "Epoch 95/100\n",
      "1/1 [==============================] - 0s 16ms/step - loss: 6.9150 - mae: 6.9150\n",
      "Epoch 96/100\n",
      "1/1 [==============================] - 0s 0s/step - loss: 6.9094 - mae: 6.9094\n",
      "Epoch 97/100\n",
      "1/1 [==============================] - 0s 0s/step - loss: 6.9038 - mae: 6.9038\n",
      "Epoch 98/100\n",
      "1/1 [==============================] - 0s 0s/step - loss: 6.8981 - mae: 6.8981\n",
      "Epoch 99/100\n",
      "1/1 [==============================] - 0s 0s/step - loss: 6.8925 - mae: 6.8925\n",
      "Epoch 100/100\n",
      "1/1 [==============================] - 0s 0s/step - loss: 6.8869 - mae: 6.8869\n"
     ]
    },
    {
     "output_type": "execute_result",
     "data": {
      "text/plain": [
       "<tensorflow.python.keras.callbacks.History at 0x20c32aed850>"
      ]
     },
     "metadata": {},
     "execution_count": 12
    }
   ],
   "metadata": {}
  },
  {
   "cell_type": "code",
   "execution_count": 13,
   "source": [
    "y_pred=model1.predict([17])\r\n",
    "y_pred"
   ],
   "outputs": [
    {
     "output_type": "execute_result",
     "data": {
      "text/plain": [
       "array([[29.739855]], dtype=float32)"
      ]
     },
     "metadata": {},
     "execution_count": 13
    }
   ],
   "metadata": {}
  },
  {
   "cell_type": "code",
   "execution_count": 14,
   "source": [
    "#rebuild the model ##2\r\n",
    "#create - sequential API\r\n",
    "model1=tf.keras.Sequential([\r\n",
    "    tf.keras.layers.Dense(50,activation=None),\r\n",
    "    tf.keras.layers.Dense(1)])\r\n",
    "\r\n",
    "#compile\r\n",
    "model1.compile(loss=\"mae\", optimizer=tf.keras.optimizers.Adam(lr=0.01),metrics=[\"mae\"]) #mae - mean absolute error, lr - learning rate\r\n",
    "\r\n",
    "#fitting\r\n",
    "model1.fit(x,y,epochs=100)"
   ],
   "outputs": [
    {
     "output_type": "stream",
     "name": "stderr",
     "text": [
      "C:\\Users\\Yoga\\AppData\\Local\\Programs\\Python\\Python39\\lib\\site-packages\\tensorflow\\python\\keras\\optimizer_v2\\optimizer_v2.py:374: UserWarning: The `lr` argument is deprecated, use `learning_rate` instead.\n",
      "  warnings.warn(\n"
     ]
    },
    {
     "output_type": "stream",
     "name": "stdout",
     "text": [
      "Epoch 1/100\n",
      "1/1 [==============================] - 0s 278ms/step - loss: 11.7682 - mae: 11.7682\n",
      "Epoch 2/100\n",
      "1/1 [==============================] - 0s 3ms/step - loss: 11.0963 - mae: 11.0963\n",
      "Epoch 3/100\n",
      "1/1 [==============================] - 0s 3ms/step - loss: 10.4149 - mae: 10.4149\n",
      "Epoch 4/100\n",
      "1/1 [==============================] - 0s 3ms/step - loss: 9.7212 - mae: 9.7212\n",
      "Epoch 5/100\n",
      "1/1 [==============================] - 0s 0s/step - loss: 9.0103 - mae: 9.0103\n",
      "Epoch 6/100\n",
      "1/1 [==============================] - 0s 0s/step - loss: 8.2778 - mae: 8.2778\n",
      "Epoch 7/100\n",
      "1/1 [==============================] - 0s 0s/step - loss: 7.5198 - mae: 7.5198\n",
      "Epoch 8/100\n",
      "1/1 [==============================] - 0s 16ms/step - loss: 6.9648 - mae: 6.9648\n",
      "Epoch 9/100\n",
      "1/1 [==============================] - 0s 0s/step - loss: 7.0672 - mae: 7.0672\n",
      "Epoch 10/100\n",
      "1/1 [==============================] - 0s 0s/step - loss: 7.3316 - mae: 7.3316\n",
      "Epoch 11/100\n",
      "1/1 [==============================] - 0s 0s/step - loss: 7.4673 - mae: 7.4673\n",
      "Epoch 12/100\n",
      "1/1 [==============================] - 0s 16ms/step - loss: 7.5285 - mae: 7.5285\n",
      "Epoch 13/100\n",
      "1/1 [==============================] - 0s 0s/step - loss: 7.4012 - mae: 7.4012\n",
      "Epoch 14/100\n",
      "1/1 [==============================] - 0s 0s/step - loss: 7.1923 - mae: 7.1923\n",
      "Epoch 15/100\n",
      "1/1 [==============================] - 0s 13ms/step - loss: 6.9575 - mae: 6.9575\n",
      "Epoch 16/100\n",
      "1/1 [==============================] - 0s 0s/step - loss: 6.6953 - mae: 6.6953\n",
      "Epoch 17/100\n",
      "1/1 [==============================] - 0s 0s/step - loss: 6.4127 - mae: 6.4127\n",
      "Epoch 18/100\n",
      "1/1 [==============================] - 0s 16ms/step - loss: 6.3048 - mae: 6.3048\n",
      "Epoch 19/100\n",
      "1/1 [==============================] - 0s 0s/step - loss: 6.2575 - mae: 6.2575\n",
      "Epoch 20/100\n",
      "1/1 [==============================] - 0s 0s/step - loss: 6.3981 - mae: 6.3981\n",
      "Epoch 21/100\n",
      "1/1 [==============================] - 0s 0s/step - loss: 6.4550 - mae: 6.4550\n",
      "Epoch 22/100\n",
      "1/1 [==============================] - 0s 0s/step - loss: 6.3999 - mae: 6.3999\n",
      "Epoch 23/100\n",
      "1/1 [==============================] - 0s 0s/step - loss: 6.2482 - mae: 6.2482\n",
      "Epoch 24/100\n",
      "1/1 [==============================] - 0s 0s/step - loss: 6.0104 - mae: 6.0104\n",
      "Epoch 25/100\n",
      "1/1 [==============================] - 0s 0s/step - loss: 5.7876 - mae: 5.7876\n",
      "Epoch 26/100\n",
      "1/1 [==============================] - 0s 0s/step - loss: 5.6809 - mae: 5.6809\n",
      "Epoch 27/100\n",
      "1/1 [==============================] - 0s 0s/step - loss: 5.5715 - mae: 5.5715\n",
      "Epoch 28/100\n",
      "1/1 [==============================] - 0s 0s/step - loss: 5.6123 - mae: 5.6123\n",
      "Epoch 29/100\n",
      "1/1 [==============================] - 0s 0s/step - loss: 5.6074 - mae: 5.6074\n",
      "Epoch 30/100\n",
      "1/1 [==============================] - 0s 0s/step - loss: 5.5541 - mae: 5.5541\n",
      "Epoch 31/100\n",
      "1/1 [==============================] - 0s 0s/step - loss: 5.4568 - mae: 5.4568\n",
      "Epoch 32/100\n",
      "1/1 [==============================] - 0s 16ms/step - loss: 5.3199 - mae: 5.3199\n",
      "Epoch 33/100\n",
      "1/1 [==============================] - 0s 0s/step - loss: 5.1477 - mae: 5.1477\n",
      "Epoch 34/100\n",
      "1/1 [==============================] - 0s 9ms/step - loss: 4.9442 - mae: 4.9442\n",
      "Epoch 35/100\n",
      "1/1 [==============================] - 0s 0s/step - loss: 4.8239 - mae: 4.8239\n",
      "Epoch 36/100\n",
      "1/1 [==============================] - 0s 7ms/step - loss: 4.7389 - mae: 4.7389\n",
      "Epoch 37/100\n",
      "1/1 [==============================] - 0s 0s/step - loss: 4.6657 - mae: 4.6657\n",
      "Epoch 38/100\n",
      "1/1 [==============================] - 0s 0s/step - loss: 4.5846 - mae: 4.5846\n",
      "Epoch 39/100\n",
      "1/1 [==============================] - 0s 0s/step - loss: 4.4026 - mae: 4.4026\n",
      "Epoch 40/100\n",
      "1/1 [==============================] - 0s 16ms/step - loss: 4.2652 - mae: 4.2652\n",
      "Epoch 41/100\n",
      "1/1 [==============================] - 0s 0s/step - loss: 4.1212 - mae: 4.1212\n",
      "Epoch 42/100\n",
      "1/1 [==============================] - 0s 0s/step - loss: 3.9701 - mae: 3.9701\n",
      "Epoch 43/100\n",
      "1/1 [==============================] - 0s 0s/step - loss: 3.8272 - mae: 3.8272\n",
      "Epoch 44/100\n",
      "1/1 [==============================] - 0s 0s/step - loss: 3.7042 - mae: 3.7042\n",
      "Epoch 45/100\n",
      "1/1 [==============================] - 0s 0s/step - loss: 3.5321 - mae: 3.5321\n",
      "Epoch 46/100\n",
      "1/1 [==============================] - 0s 0s/step - loss: 3.3664 - mae: 3.3664\n",
      "Epoch 47/100\n",
      "1/1 [==============================] - 0s 16ms/step - loss: 3.2116 - mae: 3.2116\n",
      "Epoch 48/100\n",
      "1/1 [==============================] - 0s 0s/step - loss: 3.0463 - mae: 3.0463\n",
      "Epoch 49/100\n",
      "1/1 [==============================] - 0s 0s/step - loss: 2.8705 - mae: 2.8705\n",
      "Epoch 50/100\n",
      "1/1 [==============================] - 0s 0s/step - loss: 2.6840 - mae: 2.6840\n",
      "Epoch 51/100\n",
      "1/1 [==============================] - 0s 0s/step - loss: 2.4868 - mae: 2.4868\n",
      "Epoch 52/100\n",
      "1/1 [==============================] - 0s 0s/step - loss: 2.2787 - mae: 2.2787\n",
      "Epoch 53/100\n",
      "1/1 [==============================] - 0s 0s/step - loss: 2.0596 - mae: 2.0596\n",
      "Epoch 54/100\n",
      "1/1 [==============================] - 0s 16ms/step - loss: 1.8293 - mae: 1.8293\n",
      "Epoch 55/100\n",
      "1/1 [==============================] - 0s 0s/step - loss: 1.5876 - mae: 1.5876\n",
      "Epoch 56/100\n",
      "1/1 [==============================] - 0s 0s/step - loss: 1.3531 - mae: 1.3531\n",
      "Epoch 57/100\n",
      "1/1 [==============================] - 0s 0s/step - loss: 1.0849 - mae: 1.0849\n",
      "Epoch 58/100\n",
      "1/1 [==============================] - 0s 16ms/step - loss: 0.8224 - mae: 0.8224\n",
      "Epoch 59/100\n",
      "1/1 [==============================] - 0s 0s/step - loss: 0.5466 - mae: 0.5466\n",
      "Epoch 60/100\n",
      "1/1 [==============================] - 0s 0s/step - loss: 0.2759 - mae: 0.2759\n",
      "Epoch 61/100\n",
      "1/1 [==============================] - 0s 0s/step - loss: 0.1353 - mae: 0.1353\n",
      "Epoch 62/100\n",
      "1/1 [==============================] - 0s 0s/step - loss: 0.4494 - mae: 0.4494\n",
      "Epoch 63/100\n",
      "1/1 [==============================] - 0s 0s/step - loss: 0.6499 - mae: 0.6499\n",
      "Epoch 64/100\n",
      "1/1 [==============================] - 0s 0s/step - loss: 0.6216 - mae: 0.6216\n",
      "Epoch 65/100\n",
      "1/1 [==============================] - 0s 16ms/step - loss: 0.8035 - mae: 0.8035\n",
      "Epoch 66/100\n",
      "1/1 [==============================] - 0s 0s/step - loss: 0.7995 - mae: 0.7995\n",
      "Epoch 67/100\n",
      "1/1 [==============================] - 0s 0s/step - loss: 0.7409 - mae: 0.7409\n",
      "Epoch 68/100\n",
      "1/1 [==============================] - 0s 0s/step - loss: 0.7807 - mae: 0.7807\n",
      "Epoch 69/100\n",
      "1/1 [==============================] - 0s 0s/step - loss: 0.6305 - mae: 0.6305\n",
      "Epoch 70/100\n",
      "1/1 [==============================] - 0s 0s/step - loss: 0.5556 - mae: 0.5556\n",
      "Epoch 71/100\n",
      "1/1 [==============================] - 0s 0s/step - loss: 0.4306 - mae: 0.4306\n",
      "Epoch 72/100\n",
      "1/1 [==============================] - 0s 16ms/step - loss: 0.2787 - mae: 0.2787\n",
      "Epoch 73/100\n",
      "1/1 [==============================] - 0s 0s/step - loss: 0.1378 - mae: 0.1378\n",
      "Epoch 74/100\n",
      "1/1 [==============================] - 0s 0s/step - loss: 0.1193 - mae: 0.1193\n",
      "Epoch 75/100\n",
      "1/1 [==============================] - 0s 0s/step - loss: 0.2776 - mae: 0.2776\n",
      "Epoch 76/100\n",
      "1/1 [==============================] - 0s 0s/step - loss: 0.3244 - mae: 0.3244\n",
      "Epoch 77/100\n",
      "1/1 [==============================] - 0s 0s/step - loss: 0.4157 - mae: 0.4157\n",
      "Epoch 78/100\n",
      "1/1 [==============================] - 0s 0s/step - loss: 0.4320 - mae: 0.4320\n",
      "Epoch 79/100\n",
      "1/1 [==============================] - 0s 16ms/step - loss: 0.3390 - mae: 0.3390\n",
      "Epoch 80/100\n",
      "1/1 [==============================] - 0s 6ms/step - loss: 0.2968 - mae: 0.2968\n",
      "Epoch 81/100\n",
      "1/1 [==============================] - 0s 0s/step - loss: 0.2356 - mae: 0.2356\n",
      "Epoch 82/100\n",
      "1/1 [==============================] - 0s 0s/step - loss: 0.1632 - mae: 0.1632\n",
      "Epoch 83/100\n",
      "1/1 [==============================] - 0s 11ms/step - loss: 0.1340 - mae: 0.1340\n",
      "Epoch 84/100\n",
      "1/1 [==============================] - 0s 0s/step - loss: 0.1261 - mae: 0.1261\n",
      "Epoch 85/100\n",
      "1/1 [==============================] - 0s 0s/step - loss: 0.1703 - mae: 0.1703\n",
      "Epoch 86/100\n",
      "1/1 [==============================] - 0s 0s/step - loss: 0.2123 - mae: 0.2123\n",
      "Epoch 87/100\n",
      "1/1 [==============================] - 0s 0s/step - loss: 0.2288 - mae: 0.2288\n",
      "Epoch 88/100\n",
      "1/1 [==============================] - 0s 0s/step - loss: 0.1900 - mae: 0.1900\n",
      "Epoch 89/100\n",
      "1/1 [==============================] - 0s 0s/step - loss: 0.1354 - mae: 0.1354\n",
      "Epoch 90/100\n",
      "1/1 [==============================] - 0s 16ms/step - loss: 0.1219 - mae: 0.1219\n",
      "Epoch 91/100\n",
      "1/1 [==============================] - 0s 0s/step - loss: 0.0382 - mae: 0.0382\n",
      "Epoch 92/100\n",
      "1/1 [==============================] - 0s 0s/step - loss: 0.2196 - mae: 0.2196\n",
      "Epoch 93/100\n",
      "1/1 [==============================] - 0s 0s/step - loss: 0.2188 - mae: 0.2188\n",
      "Epoch 94/100\n",
      "1/1 [==============================] - 0s 0s/step - loss: 0.1427 - mae: 0.1427\n",
      "Epoch 95/100\n",
      "1/1 [==============================] - 0s 0s/step - loss: 0.1169 - mae: 0.1169\n",
      "Epoch 96/100\n",
      "1/1 [==============================] - 0s 0s/step - loss: 0.2068 - mae: 0.2068\n",
      "Epoch 97/100\n",
      "1/1 [==============================] - 0s 0s/step - loss: 0.1523 - mae: 0.1523\n",
      "Epoch 98/100\n",
      "1/1 [==============================] - 0s 0s/step - loss: 0.2134 - mae: 0.2134\n",
      "Epoch 99/100\n",
      "1/1 [==============================] - 0s 0s/step - loss: 0.2330 - mae: 0.2330\n",
      "Epoch 100/100\n",
      "1/1 [==============================] - 0s 0s/step - loss: 0.0780 - mae: 0.0780\n"
     ]
    },
    {
     "output_type": "execute_result",
     "data": {
      "text/plain": [
       "<tensorflow.python.keras.callbacks.History at 0x20c40579bb0>"
      ]
     },
     "metadata": {},
     "execution_count": 14
    }
   ],
   "metadata": {}
  },
  {
   "cell_type": "code",
   "execution_count": 15,
   "source": [
    "y_pred=model1.predict([17.0])\r\n",
    "y_pred"
   ],
   "outputs": [
    {
     "output_type": "execute_result",
     "data": {
      "text/plain": [
       "array([[26.583803]], dtype=float32)"
      ]
     },
     "metadata": {},
     "execution_count": 15
    }
   ],
   "metadata": {}
  },
  {
   "cell_type": "markdown",
   "source": [
    "<h3>Evaluating Model</h3>\n",
    "build -> fit it -> evaluate -> tweak it -> repeat"
   ],
   "metadata": {}
  },
  {
   "cell_type": "code",
   "execution_count": 16,
   "source": [
    "#make a bigger dataset\r\n",
    "x=tf.range(-100,100,4)\r\n",
    "x"
   ],
   "outputs": [
    {
     "output_type": "execute_result",
     "data": {
      "text/plain": [
       "<tf.Tensor: shape=(50,), dtype=int32, numpy=\n",
       "array([-100,  -96,  -92,  -88,  -84,  -80,  -76,  -72,  -68,  -64,  -60,\n",
       "        -56,  -52,  -48,  -44,  -40,  -36,  -32,  -28,  -24,  -20,  -16,\n",
       "        -12,   -8,   -4,    0,    4,    8,   12,   16,   20,   24,   28,\n",
       "         32,   36,   40,   44,   48,   52,   56,   60,   64,   68,   72,\n",
       "         76,   80,   84,   88,   92,   96])>"
      ]
     },
     "metadata": {},
     "execution_count": 16
    }
   ],
   "metadata": {}
  },
  {
   "cell_type": "code",
   "execution_count": 17,
   "source": [
    "#make labels\r\n",
    "y=x+10\r\n",
    "y"
   ],
   "outputs": [
    {
     "output_type": "execute_result",
     "data": {
      "text/plain": [
       "<tf.Tensor: shape=(50,), dtype=int32, numpy=\n",
       "array([-90, -86, -82, -78, -74, -70, -66, -62, -58, -54, -50, -46, -42,\n",
       "       -38, -34, -30, -26, -22, -18, -14, -10,  -6,  -2,   2,   6,  10,\n",
       "        14,  18,  22,  26,  30,  34,  38,  42,  46,  50,  54,  58,  62,\n",
       "        66,  70,  74,  78,  82,  86,  90,  94,  98, 102, 106])>"
      ]
     },
     "metadata": {},
     "execution_count": 17
    }
   ],
   "metadata": {}
  },
  {
   "cell_type": "code",
   "execution_count": 18,
   "source": [
    "#visualize the data\r\n",
    "import matplotlib.pyplot as pyt \r\n",
    "plt.scatter(x,y)"
   ],
   "outputs": [
    {
     "output_type": "execute_result",
     "data": {
      "text/plain": [
       "<matplotlib.collections.PathCollection at 0x20c4d70abb0>"
      ]
     },
     "metadata": {},
     "execution_count": 18
    },
    {
     "output_type": "display_data",
     "data": {
      "image/png": "[encoded data removed]",
      "text/plain": [
       "<Figure size 432x288 with 1 Axes>"
      ]
     },
     "metadata": {
      "needs_background": "light"
     }
    }
   ],
   "metadata": {}
  },
  {
   "cell_type": "markdown",
   "source": [
    "#The 3 sets.\n",
    "Training set -> 70-80% data, validation set -> 10-15% data, test set -> 10-15% data {of all data}"
   ],
   "metadata": {}
  },
  {
   "cell_type": "code",
   "execution_count": 19,
   "source": [
    "#check length of our new model\r\n",
    "len(x)"
   ],
   "outputs": [
    {
     "output_type": "execute_result",
     "data": {
      "text/plain": [
       "50"
      ]
     },
     "metadata": {},
     "execution_count": 19
    }
   ],
   "metadata": {}
  },
  {
   "cell_type": "code",
   "execution_count": 20,
   "source": [
    "# split the data into train and test sets\r\n",
    "x_train=x[:40] # -> 80% data\r\n",
    "y_train=y[:40]\r\n",
    "\r\n",
    "x_test=x[40:] # -> 20% data\r\n",
    "y_test=y[40:] \r\n",
    "\r\n",
    "len(x_train),len(x_test),len(y_train),len(y_test),x_test"
   ],
   "outputs": [
    {
     "output_type": "execute_result",
     "data": {
      "text/plain": [
       "(40,\n",
       " 10,\n",
       " 40,\n",
       " 10,\n",
       " <tf.Tensor: shape=(10,), dtype=int32, numpy=array([60, 64, 68, 72, 76, 80, 84, 88, 92, 96])>)"
      ]
     },
     "metadata": {},
     "execution_count": 20
    }
   ],
   "metadata": {}
  },
  {
   "cell_type": "markdown",
   "source": [
    "<h3>Visualizing the data</h3>"
   ],
   "metadata": {}
  },
  {
   "cell_type": "code",
   "execution_count": 21,
   "source": [
    "plt.figure(figsize=(10,7))\r\n",
    "#plot training data in blue color\r\n",
    "plt.scatter(x_train,y_train,c=\"b\", label=\"Training data\")\r\n",
    "#plot test data in green color\r\n",
    "plt.scatter(x_test,y_test,c=\"g\",label=\"Testing data\")\r\n",
    "#show legend\r\n",
    "plt.legend()"
   ],
   "outputs": [
    {
     "output_type": "execute_result",
     "data": {
      "text/plain": [
       "<matplotlib.legend.Legend at 0x20c4f49cca0>"
      ]
     },
     "metadata": {},
     "execution_count": 21
    },
    {
     "output_type": "display_data",
     "data": {
      "image/png": "[encoded data removed]",
      "text/plain": [
       "<Figure size 720x504 with 1 Axes>"
      ]
     },
     "metadata": {
      "needs_background": "light"
     }
    }
   ],
   "metadata": {}
  },
  {
   "cell_type": "code",
   "execution_count": 22,
   "source": [
    "#lets hava a look at how we build a model\r\n",
    "\r\n",
    "#create - sequential API\r\n",
    "model1=tf.keras.Sequential([tf.keras.layers.Dense(1)])\r\n",
    "\r\n",
    "#compile\r\n",
    "model1.compile(loss=tf.keras.losses.mae, optimizer=tf.keras.optimizers.SGD(),metrics=[\"mae\"]) #mae - mean absolute error, sgd - stochasitc gradient descent\r\n",
    "\r\n",
    "#fitting\r\n",
    "model1.fit(x,y,epochs=100)"
   ],
   "outputs": [
    {
     "output_type": "stream",
     "name": "stdout",
     "text": [
      "Epoch 1/100\n",
      "2/2 [==============================] - 0s 0s/step - loss: 10.1153 - mae: 10.1153\n",
      "Epoch 2/100\n",
      "2/2 [==============================] - 0s 0s/step - loss: 10.7573 - mae: 10.7573\n",
      "Epoch 3/100\n",
      "2/2 [==============================] - 0s 0s/step - loss: 11.9824 - mae: 11.9824\n",
      "Epoch 4/100\n",
      "2/2 [==============================] - 0s 0s/step - loss: 10.7467 - mae: 10.7467\n",
      "Epoch 5/100\n",
      "2/2 [==============================] - 0s 0s/step - loss: 10.4779 - mae: 10.4779\n",
      "Epoch 6/100\n",
      "2/2 [==============================] - 0s 16ms/step - loss: 11.7897 - mae: 11.7897\n",
      "Epoch 7/100\n",
      "2/2 [==============================] - 0s 0s/step - loss: 9.2810 - mae: 9.2810\n",
      "Epoch 8/100\n",
      "2/2 [==============================] - 0s 0s/step - loss: 11.9451 - mae: 11.9451\n",
      "Epoch 9/100\n",
      "2/2 [==============================] - 0s 16ms/step - loss: 12.7311 - mae: 12.7311\n",
      "Epoch 10/100\n",
      "2/2 [==============================] - 0s 0s/step - loss: 9.9811 - mae: 9.9811\n",
      "Epoch 11/100\n",
      "2/2 [==============================] - 0s 0s/step - loss: 9.9530 - mae: 9.9530\n",
      "Epoch 12/100\n",
      "2/2 [==============================] - 0s 16ms/step - loss: 9.8942 - mae: 9.8942\n",
      "Epoch 13/100\n",
      "2/2 [==============================] - 0s 0s/step - loss: 9.7324 - mae: 9.7324\n",
      "Epoch 14/100\n",
      "2/2 [==============================] - 0s 0s/step - loss: 10.5330 - mae: 10.5330\n",
      "Epoch 15/100\n",
      "2/2 [==============================] - 0s 16ms/step - loss: 13.7505 - mae: 13.7505\n",
      "Epoch 16/100\n",
      "2/2 [==============================] - 0s 0s/step - loss: 12.3507 - mae: 12.3507\n",
      "Epoch 17/100\n",
      "2/2 [==============================] - 0s 0s/step - loss: 10.1569 - mae: 10.1569\n",
      "Epoch 18/100\n",
      "2/2 [==============================] - 0s 0s/step - loss: 10.4698 - mae: 10.4698\n",
      "Epoch 19/100\n",
      "2/2 [==============================] - 0s 0s/step - loss: 9.9599 - mae: 9.9599\n",
      "Epoch 20/100\n",
      "2/2 [==============================] - 0s 0s/step - loss: 11.9578 - mae: 11.9578\n",
      "Epoch 21/100\n",
      "2/2 [==============================] - 0s 0s/step - loss: 9.7874 - mae: 9.7874\n",
      "Epoch 22/100\n",
      "2/2 [==============================] - 0s 0s/step - loss: 9.5426 - mae: 9.5426\n",
      "Epoch 23/100\n",
      "2/2 [==============================] - 0s 0s/step - loss: 9.3487 - mae: 9.3487\n",
      "Epoch 24/100\n",
      "2/2 [==============================] - 0s 0s/step - loss: 9.6817 - mae: 9.6817\n",
      "Epoch 25/100\n",
      "2/2 [==============================] - 0s 0s/step - loss: 9.5782 - mae: 9.5782\n",
      "Epoch 26/100\n",
      "2/2 [==============================] - 0s 0s/step - loss: 9.4565 - mae: 9.4565\n",
      "Epoch 27/100\n",
      "2/2 [==============================] - 0s 0s/step - loss: 9.6898 - mae: 9.6898\n",
      "Epoch 28/100\n",
      "2/2 [==============================] - 0s 0s/step - loss: 9.5640 - mae: 9.5640\n",
      "Epoch 29/100\n",
      "2/2 [==============================] - 0s 0s/step - loss: 9.4504 - mae: 9.4504\n",
      "Epoch 30/100\n",
      "2/2 [==============================] - 0s 0s/step - loss: 9.9853 - mae: 9.9853\n",
      "Epoch 31/100\n",
      "2/2 [==============================] - 0s 0s/step - loss: 13.4238 - mae: 13.4238\n",
      "Epoch 32/100\n",
      "2/2 [==============================] - 0s 0s/step - loss: 9.6103 - mae: 9.6103\n",
      "Epoch 33/100\n",
      "2/2 [==============================] - 0s 0s/step - loss: 9.5434 - mae: 9.5434\n",
      "Epoch 34/100\n",
      "2/2 [==============================] - 0s 0s/step - loss: 9.8690 - mae: 9.8690\n",
      "Epoch 35/100\n",
      "2/2 [==============================] - 0s 0s/step - loss: 10.1181 - mae: 10.1181\n",
      "Epoch 36/100\n",
      "2/2 [==============================] - 0s 16ms/step - loss: 9.4838 - mae: 9.4838\n",
      "Epoch 37/100\n",
      "2/2 [==============================] - 0s 0s/step - loss: 9.3775 - mae: 9.3775\n",
      "Epoch 38/100\n",
      "2/2 [==============================] - 0s 0s/step - loss: 9.5979 - mae: 9.5979\n",
      "Epoch 39/100\n",
      "2/2 [==============================] - 0s 13ms/step - loss: 10.3527 - mae: 10.3527\n",
      "Epoch 40/100\n",
      "2/2 [==============================] - 0s 0s/step - loss: 11.5263 - mae: 11.5263\n",
      "Epoch 41/100\n",
      "2/2 [==============================] - 0s 0s/step - loss: 9.7037 - mae: 9.7037\n",
      "Epoch 42/100\n",
      "2/2 [==============================] - 0s 0s/step - loss: 9.1454 - mae: 9.1454\n",
      "Epoch 43/100\n",
      "2/2 [==============================] - 0s 0s/step - loss: 10.0438 - mae: 10.0438\n",
      "Epoch 44/100\n",
      "2/2 [==============================] - 0s 0s/step - loss: 9.3594 - mae: 9.3594\n",
      "Epoch 45/100\n",
      "2/2 [==============================] - 0s 0s/step - loss: 9.4929 - mae: 9.4929\n",
      "Epoch 46/100\n",
      "2/2 [==============================] - 0s 0s/step - loss: 9.3491 - mae: 9.3491\n",
      "Epoch 47/100\n",
      "2/2 [==============================] - 0s 16ms/step - loss: 9.3444 - mae: 9.3444\n",
      "Epoch 48/100\n",
      "2/2 [==============================] - 0s 0s/step - loss: 9.5883 - mae: 9.5883\n",
      "Epoch 49/100\n",
      "2/2 [==============================] - 0s 0s/step - loss: 10.2430 - mae: 10.2430\n",
      "Epoch 50/100\n",
      "2/2 [==============================] - 0s 16ms/step - loss: 9.2646 - mae: 9.2646\n",
      "Epoch 51/100\n",
      "2/2 [==============================] - 0s 0s/step - loss: 9.0360 - mae: 9.0360\n",
      "Epoch 52/100\n",
      "2/2 [==============================] - 0s 0s/step - loss: 8.9745 - mae: 8.9745\n",
      "Epoch 53/100\n",
      "2/2 [==============================] - 0s 16ms/step - loss: 9.3085 - mae: 9.3085\n",
      "Epoch 54/100\n",
      "2/2 [==============================] - 0s 0s/step - loss: 9.1855 - mae: 9.1855\n",
      "Epoch 55/100\n",
      "2/2 [==============================] - 0s 10ms/step - loss: 9.3416 - mae: 9.3416\n",
      "Epoch 56/100\n",
      "2/2 [==============================] - 0s 0s/step - loss: 8.9635 - mae: 8.9635\n",
      "Epoch 57/100\n",
      "2/2 [==============================] - 0s 0s/step - loss: 10.5310 - mae: 10.5310\n",
      "Epoch 58/100\n",
      "2/2 [==============================] - 0s 0s/step - loss: 15.1958 - mae: 15.1958\n",
      "Epoch 59/100\n",
      "2/2 [==============================] - 0s 0s/step - loss: 14.0209 - mae: 14.0209\n",
      "Epoch 60/100\n",
      "2/2 [==============================] - 0s 0s/step - loss: 13.3240 - mae: 13.3240\n",
      "Epoch 61/100\n",
      "2/2 [==============================] - 0s 0s/step - loss: 11.8255 - mae: 11.8255\n",
      "Epoch 62/100\n",
      "2/2 [==============================] - 0s 16ms/step - loss: 9.9626 - mae: 9.9626\n",
      "Epoch 63/100\n",
      "2/2 [==============================] - 0s 0s/step - loss: 12.3156 - mae: 12.3156\n",
      "Epoch 64/100\n",
      "2/2 [==============================] - 0s 0s/step - loss: 9.2092 - mae: 9.2092\n",
      "Epoch 65/100\n",
      "2/2 [==============================] - 0s 16ms/step - loss: 12.3207 - mae: 12.3207\n",
      "Epoch 66/100\n",
      "2/2 [==============================] - 0s 0s/step - loss: 8.9480 - mae: 8.9480\n",
      "Epoch 67/100\n",
      "2/2 [==============================] - 0s 0s/step - loss: 9.0790 - mae: 9.0790\n",
      "Epoch 68/100\n",
      "2/2 [==============================] - 0s 16ms/step - loss: 9.1908 - mae: 9.1908\n",
      "Epoch 69/100\n",
      "2/2 [==============================] - 0s 0s/step - loss: 9.1861 - mae: 9.1861\n",
      "Epoch 70/100\n",
      "2/2 [==============================] - 0s 0s/step - loss: 9.4460 - mae: 9.4460\n",
      "Epoch 71/100\n",
      "2/2 [==============================] - 0s 16ms/step - loss: 8.8913 - mae: 8.8913\n",
      "Epoch 72/100\n",
      "2/2 [==============================] - 0s 0s/step - loss: 9.9541 - mae: 9.9541\n",
      "Epoch 73/100\n",
      "2/2 [==============================] - 0s 0s/step - loss: 11.8670 - mae: 11.8670\n",
      "Epoch 74/100\n",
      "2/2 [==============================] - 0s 16ms/step - loss: 8.5430 - mae: 8.5430\n",
      "Epoch 75/100\n",
      "2/2 [==============================] - 0s 0s/step - loss: 8.7546 - mae: 8.7546\n",
      "Epoch 76/100\n",
      "2/2 [==============================] - 0s 0s/step - loss: 8.8002 - mae: 8.8002\n",
      "Epoch 77/100\n",
      "2/2 [==============================] - 0s 16ms/step - loss: 8.2524 - mae: 8.2524\n",
      "Epoch 78/100\n",
      "2/2 [==============================] - 0s 0s/step - loss: 9.8973 - mae: 9.8973\n",
      "Epoch 79/100\n",
      "2/2 [==============================] - 0s 0s/step - loss: 8.1643 - mae: 8.1643\n",
      "Epoch 80/100\n",
      "2/2 [==============================] - 0s 16ms/step - loss: 12.7562 - mae: 12.7562\n",
      "Epoch 81/100\n",
      "2/2 [==============================] - 0s 0s/step - loss: 13.6047 - mae: 13.6047\n",
      "Epoch 82/100\n",
      "2/2 [==============================] - 0s 0s/step - loss: 16.1141 - mae: 16.1141\n",
      "Epoch 83/100\n",
      "2/2 [==============================] - 0s 0s/step - loss: 9.2508 - mae: 9.2508\n",
      "Epoch 84/100\n",
      "2/2 [==============================] - 0s 0s/step - loss: 8.7843 - mae: 8.7843\n",
      "Epoch 85/100\n",
      "2/2 [==============================] - 0s 0s/step - loss: 8.8177 - mae: 8.8177\n",
      "Epoch 86/100\n",
      "2/2 [==============================] - 0s 0s/step - loss: 8.9785 - mae: 8.9785\n",
      "Epoch 87/100\n",
      "2/2 [==============================] - 0s 0s/step - loss: 10.3696 - mae: 10.3696\n",
      "Epoch 88/100\n",
      "2/2 [==============================] - 0s 0s/step - loss: 8.9106 - mae: 8.9106\n",
      "Epoch 89/100\n",
      "2/2 [==============================] - 0s 0s/step - loss: 9.0236 - mae: 9.0236\n",
      "Epoch 90/100\n",
      "2/2 [==============================] - 0s 0s/step - loss: 17.5326 - mae: 17.5326\n",
      "Epoch 91/100\n",
      "2/2 [==============================] - 0s 0s/step - loss: 12.4505 - mae: 12.4505\n",
      "Epoch 92/100\n",
      "2/2 [==============================] - 0s 0s/step - loss: 11.5213 - mae: 11.5213\n",
      "Epoch 93/100\n",
      "2/2 [==============================] - 0s 0s/step - loss: 9.0979 - mae: 9.0979\n",
      "Epoch 94/100\n",
      "2/2 [==============================] - 0s 0s/step - loss: 11.4120 - mae: 11.4120\n",
      "Epoch 95/100\n",
      "2/2 [==============================] - 0s 0s/step - loss: 12.5101 - mae: 12.5101\n",
      "Epoch 96/100\n",
      "2/2 [==============================] - 0s 0s/step - loss: 8.7414 - mae: 8.7414\n",
      "Epoch 97/100\n",
      "2/2 [==============================] - 0s 0s/step - loss: 10.7142 - mae: 10.7142\n",
      "Epoch 98/100\n",
      "2/2 [==============================] - 0s 16ms/step - loss: 15.1007 - mae: 15.1007\n",
      "Epoch 99/100\n",
      "2/2 [==============================] - 0s 0s/step - loss: 11.4961 - mae: 11.4961\n",
      "Epoch 100/100\n",
      "2/2 [==============================] - 0s 0s/step - loss: 14.7070 - mae: 14.7070\n"
     ]
    },
    {
     "output_type": "execute_result",
     "data": {
      "text/plain": [
       "<tensorflow.python.keras.callbacks.History at 0x20c4f5207c0>"
      ]
     },
     "metadata": {},
     "execution_count": 22
    }
   ],
   "metadata": {}
  },
  {
   "cell_type": "code",
   "execution_count": 23,
   "source": [
    "#lets create a model which builds automatically by defining input_shape argument.\r\n",
    "\r\n",
    "tf.random.set_seed(42)\r\n",
    "\r\n",
    "#create a model (same as above)\r\n",
    "model=tf.keras.Sequential([tf.keras.layers.Dense(10,input_shape=[1], name=\"input_layer\"),tf.keras.layers.Dense(1,name=\"output_layer\")],name=\"model_3\")\r\n",
    "\r\n",
    "#compile the model as above\r\n",
    "model.compile(loss=tf.keras.losses.mae, optimizer=tf.keras.optimizers.SGD(),metrics=[\"mae\"]) #mae - mean absolute error, sgd - stochasitc gradient descent"
   ],
   "outputs": [],
   "metadata": {}
  },
  {
   "cell_type": "code",
   "execution_count": 24,
   "source": [
    "#lets fit our model to the training \r\n",
    "model.fit(x_train,y_train, epochs=100, verbose=0)"
   ],
   "outputs": [
    {
     "output_type": "execute_result",
     "data": {
      "text/plain": [
       "<tensorflow.python.keras.callbacks.History at 0x20c32f29c10>"
      ]
     },
     "metadata": {},
     "execution_count": 24
    }
   ],
   "metadata": {}
  },
  {
   "cell_type": "code",
   "execution_count": 25,
   "source": [
    "#get a summary of our model\r\n",
    "model.summary()"
   ],
   "outputs": [
    {
     "output_type": "stream",
     "name": "stdout",
     "text": [
      "Model: \"model_3\"\n",
      "_________________________________________________________________\n",
      "Layer (type)                 Output Shape              Param #   \n",
      "=================================================================\n",
      "input_layer (Dense)          (None, 10)                20        \n",
      "_________________________________________________________________\n",
      "output_layer (Dense)         (None, 1)                 11        \n",
      "=================================================================\n",
      "Total params: 31\n",
      "Trainable params: 31\n",
      "Non-trainable params: 0\n",
      "_________________________________________________________________\n"
     ]
    }
   ],
   "metadata": {}
  },
  {
   "cell_type": "code",
   "execution_count": 26,
   "source": [
    "from tensorflow.keras.utils import plot_model\r\n",
    "plot_model(model=model,show_shapes=True)"
   ],
   "outputs": [
    {
     "output_type": "execute_result",
     "data": {
      "image/png": "[encoded data removed]",
      "text/plain": [
       "<IPython.core.display.Image object>"
      ]
     },
     "metadata": {},
     "execution_count": 26
    }
   ],
   "metadata": {}
  },
  {
   "cell_type": "markdown",
   "source": [
    "<h3> Vizualizing our model Predictions</h3>"
   ],
   "metadata": {}
  },
  {
   "cell_type": "code",
   "execution_count": 27,
   "source": [
    "#make some predictions\r\n",
    "y_pred=model.predict(x_test)\r\n",
    "y_pred"
   ],
   "outputs": [
    {
     "output_type": "execute_result",
     "data": {
      "text/plain": [
       "array([[ 70.5522  ],\n",
       "       [ 75.13992 ],\n",
       "       [ 79.727646],\n",
       "       [ 84.31538 ],\n",
       "       [ 88.9031  ],\n",
       "       [ 93.49083 ],\n",
       "       [ 98.078545],\n",
       "       [102.666275],\n",
       "       [107.254   ],\n",
       "       [111.84173 ]], dtype=float32)"
      ]
     },
     "metadata": {},
     "execution_count": 27
    }
   ],
   "metadata": {}
  },
  {
   "cell_type": "code",
   "execution_count": 28,
   "source": [
    "y_test"
   ],
   "outputs": [
    {
     "output_type": "execute_result",
     "data": {
      "text/plain": [
       "<tf.Tensor: shape=(10,), dtype=int32, numpy=array([ 70,  74,  78,  82,  86,  90,  94,  98, 102, 106])>"
      ]
     },
     "metadata": {},
     "execution_count": 28
    }
   ],
   "metadata": {}
  },
  {
   "cell_type": "code",
   "execution_count": 29,
   "source": [
    "#lets create a plotting func.\r\n",
    "def plot_pred(train_data=x_train,train_labels=y_train,test_data=x_test,test_labels=y_test,preds=y_pred):\r\n",
    "\r\n",
    "    \"\"\"\r\n",
    "    Plots training data, test data and compares predictions to ground truth tables\r\n",
    "    \"\"\"\r\n",
    "\r\n",
    "    plt.figure(figsize=(10,7))\r\n",
    "    #plot training data in blue\r\n",
    "    plt.scatter(train_data, train_labels,c=\"b\", label=\"Training data\")\r\n",
    "    #plot testing data in green\r\n",
    "    plt.scatter(test_data, test_labels, c=\"g\", label=\"Testing data\")\r\n",
    "    #plot model's predictions in red\r\n",
    "    plt.scatter(test_data, preds, c=\"r\", label=\"Predictions\")\r\n",
    "    #show the legend\r\n",
    "    plt.legend()"
   ],
   "outputs": [],
   "metadata": {}
  },
  {
   "cell_type": "code",
   "execution_count": 30,
   "source": [
    "plot_pred()"
   ],
   "outputs": [
    {
     "output_type": "display_data",
     "data": {
      "image/png": "[encoded data removed]",
      "text/plain": [
       "<Figure size 720x504 with 1 Axes>"
      ]
     },
     "metadata": {
      "needs_background": "light"
     }
    }
   ],
   "metadata": {}
  }
 ]
}